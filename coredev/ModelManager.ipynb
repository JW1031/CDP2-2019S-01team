{
 "cells": [
  {
   "cell_type": "code",
   "execution_count": 1,
   "metadata": {},
   "outputs": [],
   "source": [
    "import tensorflow as tf\n",
    "import os\n",
    "import sys"
   ]
  },
  {
   "cell_type": "code",
   "execution_count": 8,
   "metadata": {},
   "outputs": [],
   "source": [
    "class ModelManager:\n",
    "    def __init__(self, directory, tf_input, tf_output):\n",
    "        self.input = tf_input\n",
    "        self.datagen = tf.keras.preprocessing.image.ImageDataGenerator(rescale = 1./255,samplewise_std_normalization=True, samplewise_center=True)\n",
    "        self.data_iter = self.datagen.flow_from_directory(directory, target_size=(int(self.input.shape[0]),int(self.input.shape[1])), batch_size=50, save_format='jpeg', shuffle=False)\n",
    "        \n",
    "    def __init__(self, directory, classes, input_size=(256,256), batch_size=50):\n",
    "        # directories and classses\n",
    "        self.datagen = tf.keras.preprocessing.image.ImageDataGenerator(rescale= 1./255, samplewise_std_normalization=True, samplewise_center=True)\n",
    "        self.data_iter = self.datagen.flow_from_directory(directory, target_size=input_size, batch_size=50, save_format='jpeg', shuffle=False)\n",
    "        self.input_label = tf.placeholder(dtype=tf.float32, shape=[None, classes], name='model_manager_label')\n",
    "        self.input = tf.placeholder(dtype=tf.float32, shape=[None], name='model_manager_input')\n",
    "        \n",
    "        last_layer = _predefined_model()\n",
    "        \n",
    "    def _predefined_model():\n",
    "        self.flat = None\n",
    "        self.fc1 = tf.layers.dense(inputs=self.flat, units=120, activation=tf.nn.relu)\n",
    "        self.fc2 = tf.layers.dense(inputs=self.fc1, units=3, activation=tf.nn.relu)\n",
    "        return self.fc2\n",
    "    def set_custom_model(full_connected):\n",
    "        self.fc = full_connected\n",
    "        self.prediction = tf.nn.softmax(self.fc)\n",
    "        \n",
    "    def Train_model():\n",
    "        return False\n",
    "        "
   ]
  },
  {
   "cell_type": "code",
   "execution_count": null,
   "metadata": {},
   "outputs": [],
   "source": []
  }
 ],
 "metadata": {
  "kernelspec": {
   "display_name": "Python 3",
   "language": "python",
   "name": "python3"
  },
  "language_info": {
   "codemirror_mode": {
    "name": "ipython",
    "version": 3
   },
   "file_extension": ".py",
   "mimetype": "text/x-python",
   "name": "python",
   "nbconvert_exporter": "python",
   "pygments_lexer": "ipython3",
   "version": "3.6.7"
  }
 },
 "nbformat": 4,
 "nbformat_minor": 2
}
