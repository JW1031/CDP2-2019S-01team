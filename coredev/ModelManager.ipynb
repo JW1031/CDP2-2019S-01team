{
 "cells": [
  {
   "cell_type": "code",
   "execution_count": 1,
   "metadata": {},
   "outputs": [
    {
     "name": "stderr",
     "output_type": "stream",
     "text": [
      "C:\\Users\\tkddj\\Anaconda3\\lib\\site-packages\\h5py\\__init__.py:36: FutureWarning: Conversion of the second argument of issubdtype from `float` to `np.floating` is deprecated. In future, it will be treated as `np.float64 == np.dtype(float).type`.\n",
      "  from ._conv import register_converters as _register_converters\n"
     ]
    }
   ],
   "source": [
    "import tensorflow as tf\n",
    "import os\n",
    "import sys"
   ]
  },
  {
   "cell_type": "code",
   "execution_count": 8,
   "metadata": {},
   "outputs": [],
   "source": [
    "class ModelManager:\n",
    "    def __init__(self, directory, tf_input, tf_output):\n",
    "        self.input = tf_input\n",
    "        self.datagen = tf.keras.preprocessing.image.ImageDataGenerator(rescale = 1./255)\n",
    "        self.data_iter = self.datagen.flow_from_directory(directory, target_size=(int(self.input.shape[0]),int(self.input.shape[1])), batch_size=50, save_format='jpeg', shuffle=False)\n",
    "        \n",
    "    def __init__(self, directory, classes, input_size=(256,256), batch_size=50):\n",
    "        # directories and classses\n",
    "        self.datagen = tf.keras.preprocessing.image.ImageDataGenerator(rescale= 1./255)\n",
    "        self.data_iter = self.datagen.flow_from_directory(directory, target_size=input_size, batch_size=50, save_format='jpeg', shuffle=False)\n",
    "        self.input_label = tf.placeholder(dtype=tf.float32, shape=[None, classes], name='model_manager_label')\n",
    "        self.input = tf.placeholder(dtype=tf.float32, shape=[None], name='model_manager_input')\n",
    "        \n",
    "        \n",
    "    def predefined_model():\n",
    "        return False # just \n",
    "    "
   ]
  },
  {
   "cell_type": "code",
   "execution_count": null,
   "metadata": {},
   "outputs": [],
   "source": []
  }
 ],
 "metadata": {
  "kernelspec": {
   "display_name": "Python 3",
   "language": "python",
   "name": "python3"
  },
  "language_info": {
   "codemirror_mode": {
    "name": "ipython",
    "version": 3
   },
   "file_extension": ".py",
   "mimetype": "text/x-python",
   "name": "python",
   "nbconvert_exporter": "python",
   "pygments_lexer": "ipython3",
   "version": "3.6.5"
  }
 },
 "nbformat": 4,
 "nbformat_minor": 2
}
