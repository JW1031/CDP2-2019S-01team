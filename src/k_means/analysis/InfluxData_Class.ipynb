{
 "cells": [
  {
   "cell_type": "code",
   "execution_count": 117,
   "metadata": {},
   "outputs": [],
   "source": [
    "from influxdb import InfluxDBClient, DataFrameClient\n",
    "class InfluxData:\n",
    "    def __init_(self):\n",
    "        self._cli = None;\n",
    "        self._devices = []\n",
    "        self._rs = None;\n",
    "    def set_client(self,ip,port:int,ID,pwd,database):\n",
    "        self._cli = InfluxDBClient(ip,port,ID,pwd,database=database)\n",
    "        if self._cli is None:\n",
    "            print(\"Client Connect fail!\")\n",
    "            return\n",
    "        return self\n",
    "    def get_device(self):\n",
    "        if self._cli is None:\n",
    "            print(\"Client Connect fail!\")\n",
    "            return\n",
    "        self._rs = self._cli.query(\"show series\")\n",
    "        self._devices = list(map(lambda x: x[0].split('=')[1], self._rs.raw['series'][0]['values']))\n",
    "        return self._devices\n",
    "    def query(self,qry:str):\n",
    "        try:\n",
    "            self._rs = self._cli.query(qry)\n",
    "        except:\n",
    "            print(\"cannot query to influxDB\")\n",
    "            raise\n",
    "        return self\n",
    "    def resultSetToDF(self):\n",
    "        # Convert query resultset to DataFrame\n",
    "        return DataFrameClient()._to_dataframe(rs=self._rs)\n",
    "        "
   ]
  },
  {
   "cell_type": "code",
   "execution_count": 118,
   "metadata": {},
   "outputs": [
    {
     "data": {
      "text/plain": [
       "<__main__.InfluxData at 0x7f909f5ca0b8>"
      ]
     },
     "execution_count": 118,
     "metadata": {},
     "output_type": "execute_result"
    }
   ],
   "source": [
    "test_cli = InfluxData()\n",
    "test_cli.set_client('155.230.28.170',8086,'sslab','1231',database='kmaeq')\n",
    "test_cli.get_device()\n",
    "test_cli.query(\"select * from acc_data where dev_id='0025' and time >= '2019-03-26T02:00:00Z' AND time <= '2019-03-26T02:10:00Z'\")"
   ]
  },
  {
   "cell_type": "code",
   "execution_count": 119,
   "metadata": {},
   "outputs": [
    {
     "data": {
      "text/html": [
       "<div>\n",
       "<style scoped>\n",
       "    .dataframe tbody tr th:only-of-type {\n",
       "        vertical-align: middle;\n",
       "    }\n",
       "\n",
       "    .dataframe tbody tr th {\n",
       "        vertical-align: top;\n",
       "    }\n",
       "\n",
       "    .dataframe thead th {\n",
       "        text-align: right;\n",
       "    }\n",
       "</style>\n",
       "<table border=\"1\" class=\"dataframe\">\n",
       "  <thead>\n",
       "    <tr style=\"text-align: right;\">\n",
       "      <th></th>\n",
       "      <th>x</th>\n",
       "      <th>y</th>\n",
       "      <th>z</th>\n",
       "    </tr>\n",
       "  </thead>\n",
       "  <tbody>\n",
       "    <tr>\n",
       "      <th>count</th>\n",
       "      <td>60007.000000</td>\n",
       "      <td>60007.000000</td>\n",
       "      <td>60007.000000</td>\n",
       "    </tr>\n",
       "    <tr>\n",
       "      <th>mean</th>\n",
       "      <td>-0.001387</td>\n",
       "      <td>0.003026</td>\n",
       "      <td>0.017827</td>\n",
       "    </tr>\n",
       "    <tr>\n",
       "      <th>std</th>\n",
       "      <td>0.160736</td>\n",
       "      <td>0.165044</td>\n",
       "      <td>0.097520</td>\n",
       "    </tr>\n",
       "    <tr>\n",
       "      <th>min</th>\n",
       "      <td>-0.956304</td>\n",
       "      <td>-0.960551</td>\n",
       "      <td>-0.041403</td>\n",
       "    </tr>\n",
       "    <tr>\n",
       "      <th>25%</th>\n",
       "      <td>-0.013612</td>\n",
       "      <td>-0.012843</td>\n",
       "      <td>-0.013846</td>\n",
       "    </tr>\n",
       "    <tr>\n",
       "      <th>50%</th>\n",
       "      <td>-0.000232</td>\n",
       "      <td>0.000369</td>\n",
       "      <td>-0.012850</td>\n",
       "    </tr>\n",
       "    <tr>\n",
       "      <th>75%</th>\n",
       "      <td>0.013245</td>\n",
       "      <td>0.014411</td>\n",
       "      <td>-0.010551</td>\n",
       "    </tr>\n",
       "    <tr>\n",
       "      <th>max</th>\n",
       "      <td>0.933571</td>\n",
       "      <td>0.973188</td>\n",
       "      <td>0.907341</td>\n",
       "    </tr>\n",
       "  </tbody>\n",
       "</table>\n",
       "</div>"
      ],
      "text/plain": [
       "                  x             y             z\n",
       "count  60007.000000  60007.000000  60007.000000\n",
       "mean      -0.001387      0.003026      0.017827\n",
       "std        0.160736      0.165044      0.097520\n",
       "min       -0.956304     -0.960551     -0.041403\n",
       "25%       -0.013612     -0.012843     -0.013846\n",
       "50%       -0.000232      0.000369     -0.012850\n",
       "75%        0.013245      0.014411     -0.010551\n",
       "max        0.933571      0.973188      0.907341"
      ]
     },
     "execution_count": 119,
     "metadata": {},
     "output_type": "execute_result"
    }
   ],
   "source": [
    "df = test_cli.resultSetToDF()\n",
    "df['acc_data'].describe()"
   ]
  },
  {
   "cell_type": "code",
   "execution_count": 120,
   "metadata": {},
   "outputs": [],
   "source": [
    "df = df['acc_data']"
   ]
  },
  {
   "cell_type": "code",
   "execution_count": 76,
   "metadata": {},
   "outputs": [],
   "source": [
    "timeidx= df.index"
   ]
  },
  {
   "cell_type": "code",
   "execution_count": 102,
   "metadata": {},
   "outputs": [],
   "source": [
    "time_interval = []\n",
    "time_map = {}\n",
    "for i in range(1,timeidx.size):\n",
    "    diff = (timeidx[i]-timeidx[i-1]).total_seconds()\n",
    "    try:\n",
    "        time_map[diff] += 1\n",
    "    except:\n",
    "        time_map[diff] = 1"
   ]
  },
  {
   "cell_type": "code",
   "execution_count": 122,
   "metadata": {},
   "outputs": [
    {
     "data": {
      "image/png": "[encoded data removed]",
      "text/plain": [
       "<Figure size 432x288 with 1 Axes>"
      ]
     },
     "metadata": {
      "needs_background": "light"
     },
     "output_type": "display_data"
    }
   ],
   "source": [
    "import numpy as np\n",
    "from matplotlib import pyplot as plt\n",
    "x_ax = list(time_map.keys())\n",
    "y_ax = []\n",
    "for i in x_ax:\n",
    "    y_ax.append(time_map[i])\n",
    "fig, ax = plt.subplots()\n",
    "ax.bar(x_ax,y_ax,width=0.001)\n",
    "x_ax, y_ax\n",
    "fig.savefig('./time_interval_img/'+'0025'+'_tsDiff'+'_0403',dpi=300)"
   ]
  },
  {
   "cell_type": "code",
   "execution_count": 123,
   "metadata": {},
   "outputs": [
    {
     "name": "stdout",
     "output_type": "stream",
     "text": [
      "CPU times: user 6 µs, sys: 0 ns, total: 6 µs\n",
      "Wall time: 11.4 µs\n"
     ]
    },
    {
     "data": {
      "text/plain": [
       "1"
      ]
     },
     "execution_count": 123,
     "metadata": {},
     "output_type": "execute_result"
    }
   ],
   "source": [
    "%%time\n",
    "1"
   ]
  }
 ],
 "metadata": {
  "kernelspec": {
   "display_name": "Python 3",
   "language": "python",
   "name": "python3"
  },
  "language_info": {
   "codemirror_mode": {
    "name": "ipython",
    "version": 3
   },
   "file_extension": ".py",
   "mimetype": "text/x-python",
   "name": "python",
   "nbconvert_exporter": "python",
   "pygments_lexer": "ipython3",
   "version": "3.6.7"
  }
 },
 "nbformat": 4,
 "nbformat_minor": 2
}
