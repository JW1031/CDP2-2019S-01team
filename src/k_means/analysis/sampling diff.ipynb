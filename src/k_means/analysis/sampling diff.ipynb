{
 "cells": [
  {
   "cell_type": "code",
   "execution_count": 23,
   "metadata": {},
   "outputs": [],
   "source": [
    "import pandas as pd\n",
    "import numpy as np\n",
    "import matplotlib\n",
    "import matplotlib.pyplot as plt\n",
    "from scipy import signal\n",
    "from scipy import constants\n",
    "import os\n",
    "import glob\n",
    "from matplotlib import rc\n",
    "\n",
    "from influxdb import InfluxDBClient, DataFrameClient\n",
    "class InfluxData:\n",
    "    def __init_(self):\n",
    "        self._cli = None;\n",
    "        self._devices = []\n",
    "        self._rs = None;\n",
    "    def set_client(self,ip,port:int,ID,pwd,database):\n",
    "        self._cli = InfluxDBClient(ip,port,ID,pwd,database=database)\n",
    "        if self._cli is None:\n",
    "            print(\"Client Connect fail!\")\n",
    "            return\n",
    "        return self\n",
    "    def get_device(self):\n",
    "        if self._cli is None:\n",
    "            print(\"Client Connect fail!\")\n",
    "            return\n",
    "        self._rs = self._cli.query(\"show series\")\n",
    "        self._devices = list(map(lambda x: x[0].split('=')[1], self._rs.raw['series'][0]['values']))\n",
    "        return self._devices\n",
    "    def query(self,qry:str):\n",
    "        try:\n",
    "            self._rs = self._cli.query(qry)\n",
    "        except:\n",
    "            print(\"cannot query to influxDB\")\n",
    "            raise\n",
    "        return self\n",
    "    def resultSetToDF(self):\n",
    "        # Convert query resultset to DataFrame\n",
    "        return DataFrameClient()._to_dataframe(rs=self._rs)\n",
    "        "
   ]
  },
  {
   "cell_type": "code",
   "execution_count": 24,
   "metadata": {},
   "outputs": [],
   "source": [
    "from InfluxData import InfluxData\n",
    "client = InfluxData()\n",
    "client.set_client('155.230.28.170',8086,'sslab','1231',database='kmaeq')\n",
    "device_ids = client.get_device()"
   ]
  },
  {
   "cell_type": "code",
   "execution_count": 40,
   "metadata": {},
   "outputs": [],
   "source": [
    "EXPECT_DATASET_SIZE = 60000 # 10min data\n",
    "#for dev_id in device_ids:\n",
    "def visualization(dev_id):\n",
    "    rs = client.query(f\"select * from acc_data where dev_id='{dev_id}' and time >= '2019-04-02T00:00:00Z' AND time <= '2019-04-03T00:00:00Z'\")\n",
    "    data = client.resultSetToDF(rs=rs)\n",
    "    if type(data['acc_data']) is list: #  it means empty data\n",
    "        return\n",
    "    if len(data['acc_data']) < EXPECT_DATASET_SIZE*0.9: # not enough data size\n",
    "        return\n",
    "    data = data['acc_data'] # convert dict_dataframe to dataframe\n",
    "    timeidx= data.index\n",
    "    time_interval = []\n",
    "    time_map = {}\n",
    "    for i in range(1,timeidx.size):\n",
    "        diff = (timeidx[i]-timeidx[i-1]).total_seconds()\n",
    "        try:\n",
    "            time_map[diff] += 1\n",
    "        except:\n",
    "            time_map[diff] = 1\n",
    "    x_ax = list(time_map.keys())\n",
    "    y_ax = []\n",
    "    for i in x_ax:\n",
    "        y_ax.append(time_map[i])\n",
    "    fig, ax = plt.subplots()\n",
    "    ax.bar(x_ax,y_ax,width=0.001)\n",
    "    # fig.savefig('./time_interval_img_0402/'+str(dev_id)+'_tsDiff'+'_0402',dpi=300)\n",
    "    fig.show()"
   ]
  },
  {
   "cell_type": "code",
   "execution_count": 44,
   "metadata": {},
   "outputs": [
    {
     "data": {
      "image/png": "[encoded data removed]",
      "text/plain": [
       "<Figure size 432x288 with 1 Axes>"
      ]
     },
     "metadata": {
      "needs_background": "light"
     },
     "output_type": "display_data"
    }
   ],
   "source": [
    "visualization('0015')"
   ]
  },
  {
   "cell_type": "code",
   "execution_count": 37,
   "metadata": {},
   "outputs": [],
   "source": [
    "from concurrent.futures import ProcessPoolExecutor\n",
    "with ProcessPoolExecutor(os.cpu_count() * 4) as proc:\n",
    "    for dev_id in device_ids:\n",
    "        proc.submit(visualization,dev_id)"
   ]
  },
  {
   "cell_type": "code",
   "execution_count": 38,
   "metadata": {},
   "outputs": [
    {
     "data": {
      "text/plain": [
       "'/home/knusslab/Sang/data'"
      ]
     },
     "execution_count": 38,
     "metadata": {},
     "output_type": "execute_result"
    }
   ],
   "source": [
    "os.getcwd()"
   ]
  }
 ],
 "metadata": {
  "kernelspec": {
   "display_name": "Python 3",
   "language": "python",
   "name": "python3"
  },
  "language_info": {
   "codemirror_mode": {
    "name": "ipython",
    "version": 3
   },
   "file_extension": ".py",
   "mimetype": "text/x-python",
   "name": "python",
   "nbconvert_exporter": "python",
   "pygments_lexer": "ipython3",
   "version": "3.6.7"
  }
 },
 "nbformat": 4,
 "nbformat_minor": 2
}
