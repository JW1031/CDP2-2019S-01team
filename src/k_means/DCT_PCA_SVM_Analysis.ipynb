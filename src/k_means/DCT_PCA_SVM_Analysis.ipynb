{
 "cells": [
  {
   "cell_type": "code",
   "execution_count": null,
   "metadata": {},
   "outputs": [],
   "source": [
    "import pandas as pd\n",
    "import numpy as np\n",
    "import matplotlib\n",
    "import matplotlib.pyplot as plt\n",
    "from scipy import signal\n",
    "from scipy import constants\n",
    "import os\n",
    "import glob\n",
    "from matplotlib import rc"
   ]
  },
  {
   "cell_type": "code",
   "execution_count": null,
   "metadata": {},
   "outputs": [],
   "source": [
    "from InfluxData import InfluxData\n",
    "client = InfluxData()\n",
    "client.set_client('155.230.28.170',8086,'sslab','1231',database='kmaeq')\n",
    "device_ids = client.get_device()"
   ]
  },
  {
   "cell_type": "code",
   "execution_count": null,
   "metadata": {},
   "outputs": [],
   "source": [
    "raw_data = {'dev_id':[],\n",
    "            'Mean_PSD_x':[],\n",
    "            'Mean_PSD_y':[],\n",
    "            'Mean_PSD_z':[],\n",
    "            'MSE_PSD_x':[],\n",
    "            'MSE_PSD_y':[],\n",
    "            'MSE_PSD_z':[]}\n",
    "new_df = pd.DataFrame(raw_data)\n",
    "new_df"
   ]
  },
  {
   "cell_type": "code",
   "execution_count": null,
   "metadata": {},
   "outputs": [],
   "source": [
    "EXPECT_DATASET_SIZE = 60000 # 10min data\n",
    "def psd_processing(dev_id:str):\n",
    "    cli = InfluxData()\n",
    "    cli.set_client('155.230.28.170',8086,'sslab','1231',database='kmaeq')\n",
    "    rs = cli.query(f\"select * from acc_data where dev_id='{dev_id}' and time >= '2019-04-11T04:20:00Z' AND time <= '2019-04-11T04:30:00Z'\")\n",
    "    data = cli.resultSetToDF(rs)\n",
    "    if type(data['acc_data']) is list: #  it means empty data\n",
    "        print('empty data')\n",
    "        return dev_id\n",
    "    if len(data['acc_data']) < EXPECT_DATASET_SIZE*0.9: # not enough data size\n",
    "        print('not enough data size')\n",
    "        return dev_id\n",
    "    data = data['acc_data'] # convert dict_dataframe to dataframe\n",
    "    x = data['x']*constants.g\n",
    "    y = data['y']*constants.g\n",
    "    z = data['z']*constants.g\n",
    "    offset_x = x - np.mean(x)\n",
    "    offset_y = y - np.mean(y)\n",
    "    offset_z = z - np.mean(z)\n",
    "    Pxx, freqs_x = plt.psd(offset_x,NFFT=200,Fs=100)\n",
    "    Pxx_true = [0 for i in range(len(Pxx))]\n",
    "    x_mse = mean_squared_error(Pxx,Pxx_true)\n",
    "    Pyy, freqs_y = plt.psd(offset_y,NFFT=200,Fs=100)\n",
    "    Pyy_true = [0 for i in range(len(Pyy))]\n",
    "    y_mse = mean_squared_error(Pyy,Pyy_true)\n",
    "    Pzz, freqs_z = plt.psd(offset_z,NFFT=200,Fs=100)\n",
    "    Pzz_true = [0 for i in range(len(Pzz))]\n",
    "    z_mse = mean_squared_error(Pzz,Pzz_true)\n",
    "    row = {'dev_id':dev_id,\n",
    "            'Mean_PSD_x':np.mean(Pxx),\n",
    "            'Mean_PSD_y':np.mean(Pyy),\n",
    "            'Mean_PSD_z':np.mean(Pzz),\n",
    "            'MSE_PSD_x': x_mse,\n",
    "            'MSE_PSD_y': y_mse,\n",
    "            'MSE_PSD_z': z_mse\n",
    "            }\n",
    "    return row"
   ]
  },
  {
   "cell_type": "code",
   "execution_count": null,
   "metadata": {},
   "outputs": [],
   "source": [
    "%%time\n",
    "from concurrent.futures import ProcessPoolExecutor, as_completed, wait\n",
    "pool = ProcessPoolExecutor(len(device_ids))\n",
    "futures = []\n",
    "for dev_id in device_ids:\n",
    "    futures.append(pool.submit(psd_processing,dev_id))\n",
    "\n",
    "err_devices = [] \n",
    "\n",
    "for x in as_completed(futures,timeout=120):\n",
    "    if type(x.result()) is dict:\n",
    "        new_df = new_df.append(x.result(),ignore_index=True)\n",
    "    else:\n",
    "        err_devices.append(x.result())"
   ]
  },
  {
   "cell_type": "code",
   "execution_count": null,
   "metadata": {},
   "outputs": [],
   "source": [
    "'''\n",
    "while(q.empty() is False):\n",
    "    new_df = new_df.append(q.get(),ignore_index=True)\n",
    "new_df\n",
    "'''\n",
    "new_df\n",
    "new_df['Mean_PSD_x'].describe()"
   ]
  }
 ],
 "metadata": {
  "kernelspec": {
   "display_name": "Python 3",
   "language": "python",
   "name": "python3"
  },
  "language_info": {
   "codemirror_mode": {
    "name": "ipython",
    "version": 3
   },
   "file_extension": ".py",
   "mimetype": "text/x-python",
   "name": "python",
   "nbconvert_exporter": "python",
   "pygments_lexer": "ipython3",
   "version": "3.6.7"
  }
 },
 "nbformat": 4,
 "nbformat_minor": 2
}
