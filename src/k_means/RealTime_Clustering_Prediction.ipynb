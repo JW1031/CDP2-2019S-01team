{
 "cells": [
  {
   "cell_type": "code",
   "execution_count": 6,
   "metadata": {},
   "outputs": [],
   "source": [
    "import pandas as pd\n",
    "import numpy as np\n",
    "import matplotlib\n",
    "import matplotlib.pyplot as plt\n",
    "from scipy import signal\n",
    "from scipy import constants\n",
    "import os\n",
    "import glob\n",
    "from matplotlib import rc\n",
    "from sklearn.metrics import mean_squared_error"
   ]
  },
  {
   "cell_type": "code",
   "execution_count": 7,
   "metadata": {},
   "outputs": [],
   "source": [
    "from InfluxData import InfluxData\n",
    "client = InfluxData()\n",
    "client.set_client('155.230.28.170',8086,'sslab','1231',database='kmaeq')\n",
    "device_ids = client.get_device()"
   ]
  },
  {
   "cell_type": "code",
   "execution_count": 8,
   "metadata": {},
   "outputs": [
    {
     "data": {
      "text/html": [
       "<div>\n",
       "<style scoped>\n",
       "    .dataframe tbody tr th:only-of-type {\n",
       "        vertical-align: middle;\n",
       "    }\n",
       "\n",
       "    .dataframe tbody tr th {\n",
       "        vertical-align: top;\n",
       "    }\n",
       "\n",
       "    .dataframe thead th {\n",
       "        text-align: right;\n",
       "    }\n",
       "</style>\n",
       "<table border=\"1\" class=\"dataframe\">\n",
       "  <thead>\n",
       "    <tr style=\"text-align: right;\">\n",
       "      <th></th>\n",
       "      <th>dev_id</th>\n",
       "      <th>Mean_PSD_x</th>\n",
       "      <th>Mean_PSD_y</th>\n",
       "      <th>Mean_PSD_z</th>\n",
       "      <th>MSE_PSD_x</th>\n",
       "      <th>MSE_PSD_y</th>\n",
       "      <th>MSE_PSD_z</th>\n",
       "    </tr>\n",
       "  </thead>\n",
       "  <tbody>\n",
       "  </tbody>\n",
       "</table>\n",
       "</div>"
      ],
      "text/plain": [
       "Empty DataFrame\n",
       "Columns: [dev_id, Mean_PSD_x, Mean_PSD_y, Mean_PSD_z, MSE_PSD_x, MSE_PSD_y, MSE_PSD_z]\n",
       "Index: []"
      ]
     },
     "execution_count": 8,
     "metadata": {},
     "output_type": "execute_result"
    }
   ],
   "source": [
    "raw_data = {'dev_id':[],\n",
    "            'Mean_PSD_x':[],\n",
    "            'Mean_PSD_y':[],\n",
    "            'Mean_PSD_z':[],\n",
    "            'MSE_PSD_x':[],\n",
    "            'MSE_PSD_y':[],\n",
    "            'MSE_PSD_z':[]}\n",
    "new_df = pd.DataFrame(raw_data)\n",
    "new_df"
   ]
  },
  {
   "cell_type": "code",
   "execution_count": 9,
   "metadata": {},
   "outputs": [],
   "source": [
    "EXPECT_DATASET_SIZE = 60000 # 10min data\n",
    "def psd_processing(dev_id:str):\n",
    "    cli = InfluxData()\n",
    "    cli.set_client('155.230.28.170',8086,'sslab','1231',database='kmaeq')\n",
    "    rs = cli.query(f\"select * from acc_data where dev_id='{dev_id}' and time >= now() - 30m AND time <= now() - 20m\")\n",
    "    data = cli.resultSetToDF(rs)\n",
    "    if type(data['acc_data']) is list: #  it means empty data\n",
    "        print('empty data')\n",
    "        return dev_id\n",
    "    if len(data['acc_data']) < EXPECT_DATASET_SIZE*0.9: # not enough data size\n",
    "        print('not enough data size')\n",
    "        return dev_id\n",
    "    data = data['acc_data'] # convert dict_dataframe to dataframe\n",
    "    x = data['x']*constants.g\n",
    "    y = data['y']*constants.g\n",
    "    z = data['z']*constants.g\n",
    "    offset_x = x - np.mean(x)\n",
    "    offset_y = y - np.mean(y)\n",
    "    offset_z = z - np.mean(z)\n",
    "    Pxx, freqs_x = plt.psd(offset_x,NFFT=200,Fs=100)\n",
    "    Pxx_true = [0 for i in range(len(Pxx))]\n",
    "    x_mse = mean_squared_error(Pxx,Pxx_true)\n",
    "    Pyy, freqs_y = plt.psd(offset_y,NFFT=200,Fs=100)\n",
    "    Pyy_true = [0 for i in range(len(Pyy))]\n",
    "    y_mse = mean_squared_error(Pyy,Pyy_true)\n",
    "    Pzz, freqs_z = plt.psd(offset_z,NFFT=200,Fs=100)\n",
    "    Pzz_true = [0 for i in range(len(Pzz))]\n",
    "    z_mse = mean_squared_error(Pzz,Pzz_true)\n",
    "    row = {'dev_id':dev_id,\n",
    "            'Mean_PSD_x':np.mean(Pxx),\n",
    "            'Mean_PSD_y':np.mean(Pyy),\n",
    "            'Mean_PSD_z':np.mean(Pzz),\n",
    "            'MSE_PSD_x': x_mse,\n",
    "            'MSE_PSD_y': y_mse,\n",
    "            'MSE_PSD_z': z_mse\n",
    "            }\n",
    "    return row"
   ]
  },
  {
   "cell_type": "code",
   "execution_count": 10,
   "metadata": {},
   "outputs": [
    {
     "name": "stdout",
     "output_type": "stream",
     "text": [
      "empty data\n",
      "empty data\n",
      "empty data\n",
      "empty data\n",
      "empty data\n",
      "empty data\n",
      "empty data\n",
      "empty data\n",
      "empty data\n",
      "empty data\n",
      "empty data\n",
      "not enough data size\n",
      "empty data\n",
      "empty data\n",
      "empty data\n",
      "not enough data size\n",
      "empty data\n",
      "empty data\n",
      "empty data\n",
      "empty data\n",
      "empty data\n",
      "empty data\n",
      "empty data\n",
      "empty data\n",
      "empty data\n",
      "empty data\n",
      "empty data\n",
      "not enough data size\n",
      "empty data\n",
      "not enough data size\n",
      "empty data\n",
      "not enough data size\n",
      "empty data\n",
      "empty data\n",
      "empty data\n",
      "empty data\n",
      "empty data\n",
      "not enough data size\n",
      "empty data\n",
      "not enough data size\n",
      "empty data\n",
      "empty data\n",
      "empty data\n",
      "empty data\n",
      "empty data\n",
      "empty data\n",
      "empty data\n",
      "empty data\n",
      "empty data\n",
      "empty data\n",
      "not enough data size\n",
      "empty data\n",
      "empty data\n",
      "empty data\n",
      "empty data\n",
      "empty data\n",
      "not enough data size\n",
      "not enough data size\n",
      "not enough data size\n",
      "not enough data size\n",
      "not enough data size\n",
      "not enough data size\n",
      "not enough data size\n",
      "not enough data size\n",
      "not enough data size\n"
     ]
    },
    {
     "name": "stderr",
     "output_type": "stream",
     "text": [
      "Process Process-17:\n",
      "Process Process-193:\n",
      "Process Process-127:\n",
      "Process Process-184:\n",
      "Process Process-248:\n",
      "Process Process-249:\n",
      "Process Process-141:\n",
      "Process Process-79:\n",
      "Process Process-200:\n",
      "Process Process-252:\n",
      "Process Process-238:\n",
      "Process Process-241:\n",
      "Process Process-246:\n",
      "Process Process-19:\n",
      "Process Process-233:\n"
     ]
    },
    {
     "name": "stdout",
     "output_type": "stream",
     "text": [
      "cannot query to influxDB\n"
     ]
    },
    {
     "name": "stderr",
     "output_type": "stream",
     "text": [
      "Process Process-237:\n"
     ]
    },
    {
     "name": "stdout",
     "output_type": "stream",
     "text": [
      "cannot query to influxDB\n",
      "cannot query to influxDB\n"
     ]
    },
    {
     "name": "stderr",
     "output_type": "stream",
     "text": [
      "Process Process-183:\n",
      "Process Process-226:\n",
      "Process Process-250:\n",
      "Process Process-251:\n",
      "Process Process-189:\n",
      "Process Process-190:\n",
      "Process Process-245:\n",
      "Process Process-7:\n",
      "Process Process-231:\n",
      "Process Process-204:\n",
      "Process Process-96:\n"
     ]
    },
    {
     "name": "stdout",
     "output_type": "stream",
     "text": [
      "cannot query to influxDB\n",
      "cannot query to influxDB\n"
     ]
    },
    {
     "name": "stderr",
     "output_type": "stream",
     "text": [
      "Process Process-10:\n",
      "Process Process-199:\n"
     ]
    },
    {
     "name": "stdout",
     "output_type": "stream",
     "text": [
      "cannot query to influxDB\n",
      "cannot query to influxDB\n"
     ]
    },
    {
     "name": "stderr",
     "output_type": "stream",
     "text": [
      "Process Process-16:\n",
      "Process Process-108:\n"
     ]
    },
    {
     "name": "stdout",
     "output_type": "stream",
     "text": [
      "cannot query to influxDB\n"
     ]
    },
    {
     "name": "stderr",
     "output_type": "stream",
     "text": [
      "Process Process-202:\n"
     ]
    },
    {
     "name": "stdout",
     "output_type": "stream",
     "text": [
      "cannot query to influxDB\n"
     ]
    },
    {
     "name": "stderr",
     "output_type": "stream",
     "text": [
      "Process Process-206:\n",
      "Process Process-208:\n"
     ]
    },
    {
     "name": "stdout",
     "output_type": "stream",
     "text": [
      "cannot query to influxDB\n",
      "cannot query to influxDB\n"
     ]
    },
    {
     "name": "stderr",
     "output_type": "stream",
     "text": [
      "Process Process-205:\n",
      "Process Process-203:\n",
      "Process Process-239:\n"
     ]
    },
    {
     "name": "stdout",
     "output_type": "stream",
     "text": [
      "cannot query to influxDB\n"
     ]
    },
    {
     "name": "stderr",
     "output_type": "stream",
     "text": [
      "Process Process-228:\n",
      "Process Process-161:\n"
     ]
    },
    {
     "name": "stdout",
     "output_type": "stream",
     "text": [
      "cannot query to influxDB\n"
     ]
    },
    {
     "name": "stderr",
     "output_type": "stream",
     "text": [
      "Process Process-49:\n",
      "Process Process-169:\n"
     ]
    },
    {
     "name": "stdout",
     "output_type": "stream",
     "text": [
      "cannot query to influxDB\n"
     ]
    },
    {
     "name": "stderr",
     "output_type": "stream",
     "text": [
      "Process Process-244:\n"
     ]
    },
    {
     "name": "stdout",
     "output_type": "stream",
     "text": [
      "cannot query to influxDB\n"
     ]
    },
    {
     "name": "stderr",
     "output_type": "stream",
     "text": [
      "Process Process-229:\n"
     ]
    },
    {
     "name": "stdout",
     "output_type": "stream",
     "text": [
      "cannot query to influxDB\n",
      "cannot query to influxDB\n",
      "cannot query to influxDB\n",
      "cannot query to influxDB\n",
      "cannot query to influxDB\n",
      "cannot query to influxDB\n",
      "cannot query to influxDB\n"
     ]
    },
    {
     "name": "stderr",
     "output_type": "stream",
     "text": [
      "Process Process-201:\n",
      "Process Process-210:\n"
     ]
    },
    {
     "name": "stdout",
     "output_type": "stream",
     "text": [
      "cannot query to influxDB\n",
      "cannot query to influxDB\n",
      "cannot query to influxDB\n",
      "cannot query to influxDB\n"
     ]
    },
    {
     "name": "stderr",
     "output_type": "stream",
     "text": [
      "Process Process-162:\n"
     ]
    },
    {
     "name": "stdout",
     "output_type": "stream",
     "text": [
      "cannot query to influxDB\n"
     ]
    },
    {
     "name": "stderr",
     "output_type": "stream",
     "text": [
      "Process Process-194:\n",
      "Process Process-124:\n"
     ]
    },
    {
     "name": "stdout",
     "output_type": "stream",
     "text": [
      "cannot query to influxDB\n"
     ]
    },
    {
     "name": "stderr",
     "output_type": "stream",
     "text": [
      "Process Process-1:\n"
     ]
    },
    {
     "name": "stdout",
     "output_type": "stream",
     "text": [
      "cannot query to influxDB\n",
      "cannot query to influxDB\n",
      "cannot query to influxDB\n"
     ]
    },
    {
     "name": "stderr",
     "output_type": "stream",
     "text": [
      "Traceback (most recent call last):\n",
      "Traceback (most recent call last):\n",
      "Traceback (most recent call last):\n",
      "Traceback (most recent call last):\n",
      "Traceback (most recent call last):\n",
      "Traceback (most recent call last):\n"
     ]
    },
    {
     "name": "stdout",
     "output_type": "stream",
     "text": [
      "failed qry contents:  select * from acc_data where dev_id='0289' and time >= now() - 30m AND time <= now() - 20m\n",
      "cannot query to influxDB\n",
      "cannot query to influxDB\n"
     ]
    },
    {
     "name": "stderr",
     "output_type": "stream",
     "text": [
      "Process Process-25:\n",
      "Process Process-198:\n",
      "Process Process-12:\n",
      "Traceback (most recent call last):\n"
     ]
    },
    {
     "name": "stdout",
     "output_type": "stream",
     "text": [
      "cannot query to influxDB\n"
     ]
    },
    {
     "name": "stderr",
     "output_type": "stream",
     "text": [
      "Process Process-77:\n",
      "Process Process-212:\n"
     ]
    },
    {
     "name": "stdout",
     "output_type": "stream",
     "text": [
      "cannot query to influxDB\n"
     ]
    },
    {
     "name": "stderr",
     "output_type": "stream",
     "text": [
      "Traceback (most recent call last):\n"
     ]
    },
    {
     "name": "stdout",
     "output_type": "stream",
     "text": [
      "cannot query to influxDB\n"
     ]
    },
    {
     "name": "stderr",
     "output_type": "stream",
     "text": [
      "Traceback (most recent call last):\n"
     ]
    },
    {
     "name": "stdout",
     "output_type": "stream",
     "text": [
      "cannot query to influxDB\n",
      "cannot query to influxDB\n"
     ]
    },
    {
     "name": "stderr",
     "output_type": "stream",
     "text": [
      "Traceback (most recent call last):\n"
     ]
    },
    {
     "name": "stdout",
     "output_type": "stream",
     "text": [
      "failed qry contents:  select * from acc_data where dev_id='0265' and time >= now() - 30m AND time <= now() - 20m\n",
      "cannot query to influxDB\n",
      "cannot query to influxDB\n",
      "failed qry contents:  select * from acc_data where dev_id='0277' and time >= now() - 30m AND time <= now() - 20m\n",
      "cannot query to influxDB\n"
     ]
    },
    {
     "name": "stderr",
     "output_type": "stream",
     "text": [
      "Traceback (most recent call last):\n",
      "Traceback (most recent call last):\n"
     ]
    },
    {
     "name": "stdout",
     "output_type": "stream",
     "text": [
      "cannot query to influxDB\n"
     ]
    },
    {
     "name": "stderr",
     "output_type": "stream",
     "text": [
      "Traceback (most recent call last):\n",
      "Traceback (most recent call last):\n",
      "Traceback (most recent call last):\n",
      "Process Process-74:\n"
     ]
    },
    {
     "name": "stdout",
     "output_type": "stream",
     "text": [
      "cannot query to influxDB\n",
      "failed qry contents:  select * from acc_data where dev_id='0209' and time >= now() - 30m AND time <= now() - 20m\n"
     ]
    },
    {
     "name": "stderr",
     "output_type": "stream",
     "text": [
      "Traceback (most recent call last):\n",
      "Process Process-3:\n",
      "Traceback (most recent call last):\n"
     ]
    },
    {
     "name": "stdout",
     "output_type": "stream",
     "text": [
      "failed qry contents:  select * from acc_data where dev_id='0225' and time >= now() - 30m AND time <= now() - 20m\n",
      "failed qry contents:  select * from acc_data where dev_id='0279' and time >= now() - 30m AND time <= now() - 20m\n",
      "cannot query to influxDB\n",
      "failed qry contents:  select * from acc_data where dev_id='0275' and time >= now() - 30m AND time <= now() - 20m\n",
      "failed qry contents:  select * from acc_data where dev_id='0172' and time >= now() - 30m AND time <= now() - 20m\n"
     ]
    },
    {
     "name": "stderr",
     "output_type": "stream",
     "text": [
      "Process Process-62:\n",
      "Traceback (most recent call last):\n"
     ]
    },
    {
     "name": "stdout",
     "output_type": "stream",
     "text": [
      "cannot query to influxDB\n"
     ]
    },
    {
     "name": "stderr",
     "output_type": "stream",
     "text": [
      "Traceback (most recent call last):\n"
     ]
    },
    {
     "name": "stdout",
     "output_type": "stream",
     "text": [
      "cannot query to influxDB\n",
      "cannot query to influxDB\n",
      "failed qry contents:  select * from acc_data where dev_id='0266' and time >= now() - 30m AND time <= now() - 20m\n",
      "cannot query to influxDB\n"
     ]
    },
    {
     "name": "stderr",
     "output_type": "stream",
     "text": [
      "Process Process-106:\n",
      "Traceback (most recent call last):\n"
     ]
    },
    {
     "name": "stdout",
     "output_type": "stream",
     "text": [
      "cannot query to influxDB\n",
      "cannot query to influxDB\n"
     ]
    },
    {
     "name": "stderr",
     "output_type": "stream",
     "text": [
      "Traceback (most recent call last):\n",
      "Traceback (most recent call last):\n"
     ]
    },
    {
     "name": "stdout",
     "output_type": "stream",
     "text": [
      "cannot query to influxDB\n"
     ]
    },
    {
     "name": "stderr",
     "output_type": "stream",
     "text": [
      "Traceback (most recent call last):\n",
      "Traceback (most recent call last):\n"
     ]
    },
    {
     "name": "stdout",
     "output_type": "stream",
     "text": [
      "cannot query to influxDB\n"
     ]
    },
    {
     "name": "stderr",
     "output_type": "stream",
     "text": [
      "Traceback (most recent call last):\n"
     ]
    },
    {
     "name": "stdout",
     "output_type": "stream",
     "text": [
      "cannot query to influxDB\n"
     ]
    },
    {
     "name": "stderr",
     "output_type": "stream",
     "text": [
      "Traceback (most recent call last):\n"
     ]
    },
    {
     "name": "stdout",
     "output_type": "stream",
     "text": [
      "cannot query to influxDB\n"
     ]
    },
    {
     "name": "stderr",
     "output_type": "stream",
     "text": [
      "Traceback (most recent call last):\n",
      "Process Process-48:\n",
      "Traceback (most recent call last):\n",
      "Traceback (most recent call last):\n"
     ]
    },
    {
     "name": "stdout",
     "output_type": "stream",
     "text": [
      "cannot query to influxDB\n"
     ]
    },
    {
     "name": "stderr",
     "output_type": "stream",
     "text": [
      "Traceback (most recent call last):\n"
     ]
    },
    {
     "name": "stdout",
     "output_type": "stream",
     "text": [
      "failed qry contents:  select * from acc_data where dev_id='0259' and time >= now() - 30m AND time <= now() - 20m\n",
      "failed qry contents:  select * from acc_data where dev_id='0208' and time >= now() - 30m AND time <= now() - 20m\n",
      "failed qry contents:  select * from acc_data where dev_id='0175' and time >= now() - 30m AND time <= now() - 20m\n",
      "cannot query to influxDB\n"
     ]
    },
    {
     "name": "stderr",
     "output_type": "stream",
     "text": [
      "Process Process-247:\n"
     ]
    },
    {
     "name": "stdout",
     "output_type": "stream",
     "text": [
      "cannot query to influxDB\n",
      "cannot query to influxDB\n"
     ]
    },
    {
     "name": "stderr",
     "output_type": "stream",
     "text": [
      "Process Process-109:\n",
      "Process Process-197:\n"
     ]
    },
    {
     "name": "stdout",
     "output_type": "stream",
     "text": [
      "cannot query to influxDB\n"
     ]
    },
    {
     "name": "stderr",
     "output_type": "stream",
     "text": [
      "Process Process-187:\n",
      "Process Process-4:\n",
      "Process Process-84:\n"
     ]
    },
    {
     "name": "stdout",
     "output_type": "stream",
     "text": [
      "cannot query to influxDB\n",
      "cannot query to influxDB\n",
      "cannot query to influxDB\n",
      "cannot query to influxDB\n",
      "cannot query to influxDB\n",
      "cannot query to influxDB\n"
     ]
    },
    {
     "name": "stderr",
     "output_type": "stream",
     "text": [
      "Process Process-46:\n",
      "Process Process-6:\n",
      "Process Process-214:\n"
     ]
    },
    {
     "name": "stdout",
     "output_type": "stream",
     "text": [
      "cannot query to influxDB\n",
      "cannot query to influxDB\n",
      "cannot query to influxDB\n"
     ]
    },
    {
     "name": "stderr",
     "output_type": "stream",
     "text": [
      "Process Process-97:\n"
     ]
    },
    {
     "name": "stdout",
     "output_type": "stream",
     "text": [
      "cannot query to influxDB\n",
      "cannot query to influxDB\n",
      "cannot query to influxDB\n"
     ]
    },
    {
     "name": "stderr",
     "output_type": "stream",
     "text": [
      "Process Process-5:\n",
      "Process Process-78:\n"
     ]
    },
    {
     "name": "stdout",
     "output_type": "stream",
     "text": [
      "cannot query to influxDB\n",
      "cannot query to influxDB\n",
      "failed qry contents:  select * from acc_data where dev_id='0223' and time >= now() - 30m AND time <= now() - 20m\n"
     ]
    },
    {
     "name": "stderr",
     "output_type": "stream",
     "text": [
      "Traceback (most recent call last):\n"
     ]
    },
    {
     "name": "stdout",
     "output_type": "stream",
     "text": [
      "cannot query to influxDB\n"
     ]
    },
    {
     "name": "stderr",
     "output_type": "stream",
     "text": [
      "Process Process-188:\n"
     ]
    },
    {
     "name": "stdout",
     "output_type": "stream",
     "text": [
      "cannot query to influxDB\n",
      "cannot query to influxDB\n",
      "cannot query to influxDB\n"
     ]
    },
    {
     "name": "stderr",
     "output_type": "stream",
     "text": [
      "Traceback (most recent call last):\n"
     ]
    },
    {
     "name": "stdout",
     "output_type": "stream",
     "text": [
      "failed qry contents:  select * from acc_data where dev_id='0161' and time >= now() - 30m AND time <= now() - 20m\n",
      "cannot query to influxDB\n"
     ]
    },
    {
     "name": "stderr",
     "output_type": "stream",
     "text": [
      "Traceback (most recent call last):\n"
     ]
    },
    {
     "name": "stdout",
     "output_type": "stream",
     "text": [
      "failed qry contents:  select * from acc_data where dev_id='0261' and time >= now() - 30m AND time <= now() - 20m\n",
      "failed qry contents:  select * from acc_data where dev_id='0203' and time >= now() - 30m AND time <= now() - 20m\n",
      "cannot query to influxDB\n",
      "cannot query to influxDB\n"
     ]
    },
    {
     "name": "stderr",
     "output_type": "stream",
     "text": [
      "Traceback (most recent call last):\n"
     ]
    },
    {
     "name": "stdout",
     "output_type": "stream",
     "text": [
      "failed qry contents:  select * from acc_data where dev_id='0263' and time >= now() - 30m AND time <= now() - 20m\n",
      "cannot query to influxDB\n"
     ]
    },
    {
     "name": "stderr",
     "output_type": "stream",
     "text": [
      "  File \"/home/knusslab/anaconda3/envs/JupyterServer/lib/python3.6/multiprocessing/process.py\", line 258, in _bootstrap\n",
      "    self.run()\n",
      "Traceback (most recent call last):\n"
     ]
    },
    {
     "name": "stdout",
     "output_type": "stream",
     "text": [
      "cannot query to influxDB\n",
      "failed qry contents:  select * from acc_data where dev_id='0278' and time >= now() - 30m AND time <= now() - 20m\n"
     ]
    },
    {
     "name": "stderr",
     "output_type": "stream",
     "text": [
      "Traceback (most recent call last):\n"
     ]
    },
    {
     "name": "stdout",
     "output_type": "stream",
     "text": [
      "cannot query to influxDB\n"
     ]
    },
    {
     "name": "stderr",
     "output_type": "stream",
     "text": [
      "  File \"/home/knusslab/anaconda3/envs/JupyterServer/lib/python3.6/multiprocessing/process.py\", line 258, in _bootstrap\n",
      "    self.run()\n"
     ]
    },
    {
     "name": "stdout",
     "output_type": "stream",
     "text": [
      "failed qry contents:  select * from acc_data where dev_id='0264' and time >= now() - 30m AND time <= now() - 20m\n",
      "failed qry contents:  select * from acc_data where dev_id='0184' and time >= now() - 30m AND time <= now() - 20m\n"
     ]
    },
    {
     "name": "stderr",
     "output_type": "stream",
     "text": [
      "  File \"/home/knusslab/anaconda3/envs/JupyterServer/lib/python3.6/multiprocessing/process.py\", line 258, in _bootstrap\n",
      "    self.run()\n",
      "Traceback (most recent call last):\n"
     ]
    },
    {
     "name": "stdout",
     "output_type": "stream",
     "text": [
      "cannot query to influxDB\n"
     ]
    },
    {
     "name": "stderr",
     "output_type": "stream",
     "text": [
      "Traceback (most recent call last):\n",
      "Process Process-2:\n"
     ]
    },
    {
     "name": "stdout",
     "output_type": "stream",
     "text": [
      "failed qry contents:  select * from acc_data where dev_id='0239' and time >= now() - 30m AND time <= now() - 20m\n",
      "cannot query to influxDB\n"
     ]
    },
    {
     "name": "stderr",
     "output_type": "stream",
     "text": [
      "Process Process-60:\n",
      "Traceback (most recent call last):\n"
     ]
    },
    {
     "name": "stdout",
     "output_type": "stream",
     "text": [
      "cannot query to influxDB\n"
     ]
    },
    {
     "name": "stderr",
     "output_type": "stream",
     "text": [
      "Process Process-27:\n",
      "Traceback (most recent call last):\n"
     ]
    },
    {
     "name": "stdout",
     "output_type": "stream",
     "text": [
      "cannot query to influxDB\n",
      "cannot query to influxDB\n",
      "cannot query to influxDB\n",
      "failed qry contents:  select * from acc_data where dev_id='0228' and time >= now() - 30m AND time <= now() - 20m\n",
      "cannot query to influxDB\n",
      "cannot query to influxDB\n",
      "cannot query to influxDB\n"
     ]
    },
    {
     "name": "stderr",
     "output_type": "stream",
     "text": [
      "Process Process-8:\n"
     ]
    },
    {
     "name": "stdout",
     "output_type": "stream",
     "text": [
      "failed qry contents:  select * from acc_data where dev_id='0234' and time >= now() - 30m AND time <= now() - 20m\n",
      "cannot query to influxDB\n",
      "cannot query to influxDB\n",
      "cannot query to influxDB\n",
      "cannot query to influxDB\n"
     ]
    },
    {
     "name": "stderr",
     "output_type": "stream",
     "text": [
      "Process Process-123:\n",
      "Traceback (most recent call last):\n",
      "Process Process-118:\n",
      "Traceback (most recent call last):\n"
     ]
    },
    {
     "name": "stdout",
     "output_type": "stream",
     "text": [
      "cannot query to influxDB\n",
      "cannot query to influxDB\n",
      "cannot query to influxDB\n",
      "cannot query to influxDB\n"
     ]
    },
    {
     "name": "stderr",
     "output_type": "stream",
     "text": [
      "Process Process-36:\n"
     ]
    },
    {
     "name": "stdout",
     "output_type": "stream",
     "text": [
      "cannot query to influxDB\n",
      "cannot query to influxDB\n",
      "cannot query to influxDB\n",
      "failed qry contents:  select * from acc_data where dev_id='0270' and time >= now() - 30m AND time <= now() - 20m\n"
     ]
    },
    {
     "name": "stderr",
     "output_type": "stream",
     "text": [
      "Traceback (most recent call last):\n"
     ]
    },
    {
     "name": "stdout",
     "output_type": "stream",
     "text": [
      "failed qry contents:  select * from acc_data where dev_id='0262' and time >= now() - 30m AND time <= now() - 20m\n"
     ]
    },
    {
     "name": "stderr",
     "output_type": "stream",
     "text": [
      "Traceback (most recent call last):\n"
     ]
    },
    {
     "name": "stdout",
     "output_type": "stream",
     "text": [
      "cannot query to influxDB\n",
      "failed qry contents:  select * from acc_data where dev_id='0170' and time >= now() - 30m AND time <= now() - 20m\n",
      "failed qry contents:  select * from acc_data where dev_id='0212' and time >= now() - 30m AND time <= now() - 20m\n"
     ]
    },
    {
     "name": "stderr",
     "output_type": "stream",
     "text": [
      "Traceback (most recent call last):\n",
      "Traceback (most recent call last):\n",
      "Process Process-136:\n"
     ]
    },
    {
     "name": "stdout",
     "output_type": "stream",
     "text": [
      "cannot query to influxDB\n"
     ]
    },
    {
     "name": "stderr",
     "output_type": "stream",
     "text": [
      "  File \"/home/knusslab/anaconda3/envs/JupyterServer/lib/python3.6/multiprocessing/process.py\", line 258, in _bootstrap\n",
      "    self.run()\n"
     ]
    },
    {
     "name": "stdout",
     "output_type": "stream",
     "text": [
      "cannot query to influxDB\n",
      "failed qry contents:  select * from acc_data where dev_id='0146' and time >= now() - 30m AND time <= now() - 20m\n",
      "cannot query to influxDB\n"
     ]
    },
    {
     "name": "stderr",
     "output_type": "stream",
     "text": [
      "  File \"/home/knusslab/anaconda3/envs/JupyterServer/lib/python3.6/multiprocessing/process.py\", line 258, in _bootstrap\n",
      "    self.run()\n",
      "  File \"/home/knusslab/anaconda3/envs/JupyterServer/lib/python3.6/multiprocessing/process.py\", line 258, in _bootstrap\n",
      "    self.run()\n"
     ]
    },
    {
     "name": "stdout",
     "output_type": "stream",
     "text": [
      "failed qry contents:  select * from acc_data where dev_id='0216' and time >= now() - 30m AND time <= now() - 20m\n"
     ]
    },
    {
     "name": "stderr",
     "output_type": "stream",
     "text": [
      "  File \"/home/knusslab/anaconda3/envs/JupyterServer/lib/python3.6/multiprocessing/process.py\", line 258, in _bootstrap\n",
      "    self.run()\n"
     ]
    },
    {
     "name": "stdout",
     "output_type": "stream",
     "text": [
      "cannot query to influxDB\n"
     ]
    },
    {
     "name": "stderr",
     "output_type": "stream",
     "text": [
      "  File \"/home/knusslab/anaconda3/envs/JupyterServer/lib/python3.6/multiprocessing/process.py\", line 258, in _bootstrap\n",
      "    self.run()\n",
      "  File \"/home/knusslab/anaconda3/envs/JupyterServer/lib/python3.6/multiprocessing/process.py\", line 258, in _bootstrap\n",
      "    self.run()\n",
      "  File \"/home/knusslab/anaconda3/envs/JupyterServer/lib/python3.6/multiprocessing/process.py\", line 258, in _bootstrap\n",
      "    self.run()\n"
     ]
    },
    {
     "name": "stdout",
     "output_type": "stream",
     "text": [
      "failed qry contents:  select * from acc_data where dev_id='0162' and time >= now() - 30m AND time <= now() - 20m\n"
     ]
    },
    {
     "name": "stderr",
     "output_type": "stream",
     "text": [
      "Traceback (most recent call last):\n"
     ]
    },
    {
     "name": "stdout",
     "output_type": "stream",
     "text": [
      "cannot query to influxDB\n",
      "failed qry contents:  select * from acc_data where dev_id='0182' and time >= now() - 30m AND time <= now() - 20m\n"
     ]
    },
    {
     "name": "stderr",
     "output_type": "stream",
     "text": [
      "Traceback (most recent call last):\n",
      "Traceback (most recent call last):\n"
     ]
    },
    {
     "name": "stdout",
     "output_type": "stream",
     "text": [
      "failed qry contents:  select * from acc_data where dev_id='0219' and time >= now() - 30m AND time <= now() - 20m\n",
      "failed qry contents:  select * from acc_data where dev_id='0185' and time >= now() - 30m AND time <= now() - 20m\n",
      "failed qry contents:  select * from acc_data where dev_id='0238' and time >= now() - 30m AND time <= now() - 20m\n",
      "failed qry contents:  select * from acc_data where dev_id='0178' and time >= now() - 30m AND time <= now() - 20m\n"
     ]
    },
    {
     "name": "stderr",
     "output_type": "stream",
     "text": [
      "Process Process-107:\n"
     ]
    },
    {
     "name": "stdout",
     "output_type": "stream",
     "text": [
      "cannot query to influxDB\n",
      "cannot query to influxDB\n",
      "cannot query to influxDB\n"
     ]
    },
    {
     "name": "stderr",
     "output_type": "stream",
     "text": [
      "Process Process-67:\n"
     ]
    },
    {
     "name": "stdout",
     "output_type": "stream",
     "text": [
      "failed qry contents:  select * from acc_data where dev_id='0112' and time >= now() - 30m AND time <= now() - 20m\n"
     ]
    },
    {
     "name": "stderr",
     "output_type": "stream",
     "text": [
      "Process Process-126:\n",
      "Traceback (most recent call last):\n"
     ]
    },
    {
     "name": "stdout",
     "output_type": "stream",
     "text": [
      "cannot query to influxDB\n",
      "cannot query to influxDB\n",
      "cannot query to influxDB\n",
      "failed qry contents:  select * from acc_data where dev_id='0163' and time >= now() - 30m AND time <= now() - 20m\n",
      "cannot query to influxDB\n",
      "failed qry contents:  select * from acc_data where dev_id='0036' and time >= now() - 30m AND time <= now() - 20m\n"
     ]
    },
    {
     "name": "stderr",
     "output_type": "stream",
     "text": [
      "  File \"/home/knusslab/anaconda3/envs/JupyterServer/lib/python3.6/multiprocessing/process.py\", line 258, in _bootstrap\n",
      "    self.run()\n",
      "Traceback (most recent call last):\n"
     ]
    },
    {
     "name": "stdout",
     "output_type": "stream",
     "text": [
      "failed qry contents:  select * from acc_data where dev_id='0127' and time >= now() - 30m AND time <= now() - 20m\n",
      "failed qry contents:  select * from acc_data where dev_id='0137' and time >= now() - 30m AND time <= now() - 20m\n"
     ]
    },
    {
     "name": "stderr",
     "output_type": "stream",
     "text": [
      "  File \"/home/knusslab/anaconda3/envs/JupyterServer/lib/python3.6/multiprocessing/process.py\", line 258, in _bootstrap\n",
      "    self.run()\n"
     ]
    },
    {
     "name": "stdout",
     "output_type": "stream",
     "text": [
      "failed qry contents:  select * from acc_data where dev_id='0105' and time >= now() - 30m AND time <= now() - 20m\n"
     ]
    },
    {
     "name": "stderr",
     "output_type": "stream",
     "text": [
      "  File \"/home/knusslab/anaconda3/envs/JupyterServer/lib/python3.6/multiprocessing/process.py\", line 258, in _bootstrap\n",
      "    self.run()\n"
     ]
    },
    {
     "name": "stdout",
     "output_type": "stream",
     "text": [
      "failed qry contents:  select * from acc_data where dev_id='0167' and time >= now() - 30m AND time <= now() - 20m\n"
     ]
    },
    {
     "name": "stderr",
     "output_type": "stream",
     "text": [
      "  File \"/home/knusslab/anaconda3/envs/JupyterServer/lib/python3.6/multiprocessing/process.py\", line 93, in run\n",
      "    self._target(*self._args, **self._kwargs)\n"
     ]
    },
    {
     "name": "stdout",
     "output_type": "stream",
     "text": [
      "failed qry contents:  select * from acc_data where dev_id='0028' and time >= now() - 30m AND time <= now() - 20m\n"
     ]
    },
    {
     "name": "stderr",
     "output_type": "stream",
     "text": [
      "  File \"/home/knusslab/anaconda3/envs/JupyterServer/lib/python3.6/multiprocessing/process.py\", line 258, in _bootstrap\n",
      "    self.run()\n",
      "Process Process-73:\n"
     ]
    },
    {
     "name": "stdout",
     "output_type": "stream",
     "text": [
      "failed qry contents:  select * from acc_data where dev_id='0165' and time >= now() - 30m AND time <= now() - 20m\n"
     ]
    },
    {
     "name": "stderr",
     "output_type": "stream",
     "text": [
      "Process Process-11:\n",
      "  File \"/home/knusslab/anaconda3/envs/JupyterServer/lib/python3.6/multiprocessing/process.py\", line 258, in _bootstrap\n",
      "    self.run()\n"
     ]
    },
    {
     "name": "stdout",
     "output_type": "stream",
     "text": [
      "failed qry contents:  select * from acc_data where dev_id='0076' and time >= now() - 30m AND time <= now() - 20m\n"
     ]
    },
    {
     "name": "stderr",
     "output_type": "stream",
     "text": [
      "Process Process-71:\n",
      "  File \"/home/knusslab/anaconda3/envs/JupyterServer/lib/python3.6/multiprocessing/process.py\", line 258, in _bootstrap\n",
      "    self.run()\n"
     ]
    },
    {
     "name": "stdout",
     "output_type": "stream",
     "text": [
      "failed qry contents:  select * from acc_data where dev_id='0164' and time >= now() - 30m AND time <= now() - 20m\n",
      "failed qry contents:  select * from acc_data where dev_id='0080' and time >= now() - 30m AND time <= now() - 20m\n"
     ]
    },
    {
     "name": "stderr",
     "output_type": "stream",
     "text": [
      "  File \"/home/knusslab/anaconda3/envs/JupyterServer/lib/python3.6/multiprocessing/process.py\", line 93, in run\n",
      "    self._target(*self._args, **self._kwargs)\n",
      "  File \"/home/knusslab/anaconda3/envs/JupyterServer/lib/python3.6/multiprocessing/process.py\", line 93, in run\n",
      "    self._target(*self._args, **self._kwargs)\n"
     ]
    },
    {
     "name": "stdout",
     "output_type": "stream",
     "text": [
      "failed qry contents:  select * from acc_data where dev_id='0060' and time >= now() - 30m AND time <= now() - 20m\n"
     ]
    },
    {
     "name": "stderr",
     "output_type": "stream",
     "text": [
      "  File \"/home/knusslab/anaconda3/envs/JupyterServer/lib/python3.6/multiprocessing/process.py\", line 258, in _bootstrap\n",
      "    self.run()\n",
      "  File \"/home/knusslab/anaconda3/envs/JupyterServer/lib/python3.6/multiprocessing/process.py\", line 258, in _bootstrap\n",
      "    self.run()\n",
      "Traceback (most recent call last):\n"
     ]
    },
    {
     "name": "stdout",
     "output_type": "stream",
     "text": [
      "failed qry contents:  select * from acc_data where dev_id='0110' and time >= now() - 30m AND time <= now() - 20m\n"
     ]
    },
    {
     "name": "stderr",
     "output_type": "stream",
     "text": [
      "Traceback (most recent call last):\n",
      "  File \"/home/knusslab/anaconda3/envs/JupyterServer/lib/python3.6/multiprocessing/process.py\", line 258, in _bootstrap\n",
      "    self.run()\n",
      "  File \"/home/knusslab/anaconda3/envs/JupyterServer/lib/python3.6/multiprocessing/process.py\", line 258, in _bootstrap\n",
      "    self.run()\n"
     ]
    },
    {
     "name": "stdout",
     "output_type": "stream",
     "text": [
      "failed qry contents:  select * from acc_data where dev_id='0187' and time >= now() - 30m AND time <= now() - 20m\n",
      "failed qry contents:  select * from acc_data where dev_id='0050' and time >= now() - 30m AND time <= now() - 20m\n",
      "failed qry contents:  select * from acc_data where dev_id='0192' and time >= now() - 30m AND time <= now() - 20m\n",
      "failed qry contents:  select * from acc_data where dev_id='0055' and time >= now() - 30m AND time <= now() - 20m\n",
      "failed qry contents:  select * from acc_data where dev_id='0220' and time >= now() - 30m AND time <= now() - 20m\n"
     ]
    },
    {
     "name": "stderr",
     "output_type": "stream",
     "text": [
      "Traceback (most recent call last):\n"
     ]
    },
    {
     "name": "stdout",
     "output_type": "stream",
     "text": [
      "failed qry contents:  select * from acc_data where dev_id='0111' and time >= now() - 30m AND time <= now() - 20m\n",
      "failed qry contents:  select * from acc_data where dev_id='0198' and time >= now() - 30m AND time <= now() - 20m\n"
     ]
    },
    {
     "name": "stderr",
     "output_type": "stream",
     "text": [
      "Traceback (most recent call last):\n",
      "  File \"/home/knusslab/anaconda3/envs/JupyterServer/lib/python3.6/multiprocessing/process.py\", line 258, in _bootstrap\n",
      "    self.run()\n"
     ]
    },
    {
     "name": "stdout",
     "output_type": "stream",
     "text": [
      "failed qry contents:  select * from acc_data where dev_id='0106' and time >= now() - 30m AND time <= now() - 20m\n",
      "failed qry contents:  select * from acc_data where dev_id='0135' and time >= now() - 30m AND time <= now() - 20m\n"
     ]
    },
    {
     "name": "stderr",
     "output_type": "stream",
     "text": [
      "Process Process-9:\n"
     ]
    },
    {
     "name": "stdout",
     "output_type": "stream",
     "text": [
      "failed qry contents:  select * from acc_data where dev_id='0070' and time >= now() - 30m AND time <= now() - 20m\n",
      "failed qry contents:  select * from acc_data where dev_id='0052' and time >= now() - 30m AND time <= now() - 20m\n",
      "failed qry contents:  select * from acc_data where dev_id='0136' and time >= now() - 30m AND time <= now() - 20m\n",
      "failed qry contents:  select * from acc_data where dev_id='0143' and time >= now() - 30m AND time <= now() - 20m\n"
     ]
    },
    {
     "name": "stderr",
     "output_type": "stream",
     "text": [
      "Traceback (most recent call last):\n"
     ]
    },
    {
     "name": "stdout",
     "output_type": "stream",
     "text": [
      "failed qry contents:  select * from acc_data where dev_id='0180' and time >= now() - 30m AND time <= now() - 20m\n",
      "failed qry contents:  select * from acc_data where dev_id='0183' and time >= now() - 30m AND time <= now() - 20m\n"
     ]
    },
    {
     "name": "stderr",
     "output_type": "stream",
     "text": [
      "  File \"/home/knusslab/anaconda3/envs/JupyterServer/lib/python3.6/multiprocessing/process.py\", line 258, in _bootstrap\n",
      "    self.run()\n",
      "Traceback (most recent call last):\n",
      "  File \"/home/knusslab/anaconda3/envs/JupyterServer/lib/python3.6/multiprocessing/process.py\", line 258, in _bootstrap\n",
      "    self.run()\n",
      "  File \"/home/knusslab/anaconda3/envs/JupyterServer/lib/python3.6/multiprocessing/process.py\", line 93, in run\n",
      "    self._target(*self._args, **self._kwargs)\n"
     ]
    },
    {
     "name": "stdout",
     "output_type": "stream",
     "text": [
      "failed qry contents:  select * from acc_data where dev_id='0033' and time >= now() - 30m AND time <= now() - 20m\n",
      "failed qry contents:  select * from acc_data where dev_id='0042' and time >= now() - 30m AND time <= now() - 20m\n"
     ]
    },
    {
     "name": "stderr",
     "output_type": "stream",
     "text": [
      "  File \"/home/knusslab/anaconda3/envs/JupyterServer/lib/python3.6/multiprocessing/process.py\", line 258, in _bootstrap\n",
      "    self.run()\n"
     ]
    },
    {
     "name": "stdout",
     "output_type": "stream",
     "text": [
      "failed qry contents:  select * from acc_data where dev_id='0123' and time >= now() - 30m AND time <= now() - 20m\n",
      "cannot query to influxDB\n",
      "failed qry contents:  select * from acc_data where dev_id='0177' and time >= now() - 30m AND time <= now() - 20m\n"
     ]
    },
    {
     "name": "stderr",
     "output_type": "stream",
     "text": [
      "Traceback (most recent call last):\n",
      "  File \"/home/knusslab/anaconda3/envs/JupyterServer/lib/python3.6/multiprocessing/process.py\", line 93, in run\n",
      "    self._target(*self._args, **self._kwargs)\n",
      "  File \"/home/knusslab/anaconda3/envs/JupyterServer/lib/python3.6/multiprocessing/process.py\", line 258, in _bootstrap\n",
      "    self.run()\n",
      "  File \"/home/knusslab/anaconda3/envs/JupyterServer/lib/python3.6/multiprocessing/process.py\", line 258, in _bootstrap\n",
      "    self.run()\n",
      "  File \"/home/knusslab/anaconda3/envs/JupyterServer/lib/python3.6/multiprocessing/process.py\", line 93, in run\n",
      "    self._target(*self._args, **self._kwargs)\n"
     ]
    },
    {
     "name": "stdout",
     "output_type": "stream",
     "text": [
      "failed qry contents:  select * from acc_data where dev_id='0089' and time >= now() - 30m AND time <= now() - 20m\n"
     ]
    },
    {
     "name": "stderr",
     "output_type": "stream",
     "text": [
      "  File \"/home/knusslab/anaconda3/envs/JupyterServer/lib/python3.6/multiprocessing/process.py\", line 258, in _bootstrap\n",
      "    self.run()\n",
      "  File \"/home/knusslab/anaconda3/envs/JupyterServer/lib/python3.6/multiprocessing/process.py\", line 93, in run\n",
      "    self._target(*self._args, **self._kwargs)\n"
     ]
    },
    {
     "name": "stdout",
     "output_type": "stream",
     "text": [
      "failed qry contents:  select * from acc_data where dev_id='0054' and time >= now() - 30m AND time <= now() - 20m\n"
     ]
    },
    {
     "name": "stderr",
     "output_type": "stream",
     "text": [
      "Traceback (most recent call last):\n",
      "  File \"/home/knusslab/anaconda3/envs/JupyterServer/lib/python3.6/multiprocessing/process.py\", line 93, in run\n",
      "    self._target(*self._args, **self._kwargs)\n"
     ]
    },
    {
     "name": "stdout",
     "output_type": "stream",
     "text": [
      "failed qry contents:  select * from acc_data where dev_id='0171' and time >= now() - 30m AND time <= now() - 20m\n",
      "failed qry contents:  select * from acc_data where dev_id='0218' and time >= now() - 30m AND time <= now() - 20m\n",
      "failed qry contents:  select * from acc_data where dev_id='0210' and time >= now() - 30m AND time <= now() - 20m\n"
     ]
    },
    {
     "name": "stderr",
     "output_type": "stream",
     "text": [
      "Traceback (most recent call last):\n",
      "  File \"/home/knusslab/anaconda3/envs/JupyterServer/lib/python3.6/multiprocessing/process.py\", line 258, in _bootstrap\n",
      "    self.run()\n"
     ]
    },
    {
     "name": "stdout",
     "output_type": "stream",
     "text": [
      "failed qry contents:  select * from acc_data where dev_id='0051' and time >= now() - 30m AND time <= now() - 20m\n",
      "failed qry contents:  select * from acc_data where dev_id='0082' and time >= now() - 30m AND time <= now() - 20m\n",
      "failed qry contents:  select * from acc_data where dev_id='0284' and time >= now() - 30m AND time <= now() - 20m\n",
      "failed qry contents:  select * from acc_data where dev_id='0217' and time >= now() - 30m AND time <= now() - 20m\n"
     ]
    },
    {
     "name": "stderr",
     "output_type": "stream",
     "text": [
      "  File \"/home/knusslab/anaconda3/envs/JupyterServer/lib/python3.6/multiprocessing/process.py\", line 258, in _bootstrap\n",
      "    self.run()\n",
      "  File \"/home/knusslab/anaconda3/envs/JupyterServer/lib/python3.6/multiprocessing/process.py\", line 93, in run\n",
      "    self._target(*self._args, **self._kwargs)\n",
      "  File \"/home/knusslab/anaconda3/envs/JupyterServer/lib/python3.6/multiprocessing/process.py\", line 93, in run\n",
      "    self._target(*self._args, **self._kwargs)\n",
      "  File \"/home/knusslab/anaconda3/envs/JupyterServer/lib/python3.6/multiprocessing/process.py\", line 258, in _bootstrap\n",
      "    self.run()\n",
      "Traceback (most recent call last):\n",
      "  File \"/home/knusslab/anaconda3/envs/JupyterServer/lib/python3.6/multiprocessing/process.py\", line 93, in run\n",
      "    self._target(*self._args, **self._kwargs)\n"
     ]
    },
    {
     "name": "stdout",
     "output_type": "stream",
     "text": [
      "failed qry contents:  select * from acc_data where dev_id='0140' and time >= now() - 30m AND time <= now() - 20m\n",
      "failed qry contents:  select * from acc_data where dev_id='0081' and time >= now() - 30m AND time <= now() - 20m\n",
      "failed qry contents:  select * from acc_data where dev_id='0149' and time >= now() - 30m AND time <= now() - 20m\n"
     ]
    },
    {
     "name": "stderr",
     "output_type": "stream",
     "text": [
      "  File \"/home/knusslab/anaconda3/envs/JupyterServer/lib/python3.6/multiprocessing/process.py\", line 93, in run\n",
      "    self._target(*self._args, **self._kwargs)\n",
      "  File \"/home/knusslab/anaconda3/envs/JupyterServer/lib/python3.6/multiprocessing/process.py\", line 258, in _bootstrap\n",
      "    self.run()\n",
      "  File \"/home/knusslab/anaconda3/envs/JupyterServer/lib/python3.6/multiprocessing/process.py\", line 93, in run\n",
      "    self._target(*self._args, **self._kwargs)\n",
      "  File \"/home/knusslab/anaconda3/envs/JupyterServer/lib/python3.6/multiprocessing/process.py\", line 258, in _bootstrap\n",
      "    self.run()\n",
      "  File \"/home/knusslab/anaconda3/envs/JupyterServer/lib/python3.6/multiprocessing/process.py\", line 93, in run\n",
      "    self._target(*self._args, **self._kwargs)\n",
      "  File \"/home/knusslab/anaconda3/envs/JupyterServer/lib/python3.6/multiprocessing/process.py\", line 93, in run\n",
      "    self._target(*self._args, **self._kwargs)\n",
      "  File \"/home/knusslab/anaconda3/envs/JupyterServer/lib/python3.6/multiprocessing/process.py\", line 93, in run\n",
      "    self._target(*self._args, **self._kwargs)\n",
      "Traceback (most recent call last):\n",
      "  File \"/home/knusslab/anaconda3/envs/JupyterServer/lib/python3.6/multiprocessing/process.py\", line 258, in _bootstrap\n",
      "    self.run()\n",
      "  File \"/home/knusslab/anaconda3/envs/JupyterServer/lib/python3.6/concurrent/futures/process.py\", line 169, in _process_worker\n",
      "    call_item = call_queue.get(block=True)\n"
     ]
    },
    {
     "name": "stdout",
     "output_type": "stream",
     "text": [
      "cannot query to influxDB\n"
     ]
    },
    {
     "name": "stderr",
     "output_type": "stream",
     "text": [
      "Traceback (most recent call last):\n",
      "  File \"/home/knusslab/anaconda3/envs/JupyterServer/lib/python3.6/multiprocessing/process.py\", line 258, in _bootstrap\n",
      "    self.run()\n",
      "  File \"/home/knusslab/anaconda3/envs/JupyterServer/lib/python3.6/multiprocessing/process.py\", line 93, in run\n",
      "    self._target(*self._args, **self._kwargs)\n",
      "  File \"/home/knusslab/anaconda3/envs/JupyterServer/lib/python3.6/multiprocessing/process.py\", line 93, in run\n",
      "    self._target(*self._args, **self._kwargs)\n",
      "  File \"/home/knusslab/anaconda3/envs/JupyterServer/lib/python3.6/multiprocessing/process.py\", line 93, in run\n",
      "    self._target(*self._args, **self._kwargs)\n"
     ]
    },
    {
     "name": "stdout",
     "output_type": "stream",
     "text": [
      "cannot query to influxDB\n"
     ]
    },
    {
     "name": "stderr",
     "output_type": "stream",
     "text": [
      "  File \"/home/knusslab/anaconda3/envs/JupyterServer/lib/python3.6/multiprocessing/process.py\", line 93, in run\n",
      "    self._target(*self._args, **self._kwargs)\n",
      "  File \"/home/knusslab/anaconda3/envs/JupyterServer/lib/python3.6/concurrent/futures/process.py\", line 169, in _process_worker\n",
      "    call_item = call_queue.get(block=True)\n",
      "Traceback (most recent call last):\n",
      "  File \"/home/knusslab/anaconda3/envs/JupyterServer/lib/python3.6/multiprocessing/process.py\", line 93, in run\n",
      "    self._target(*self._args, **self._kwargs)\n",
      "  File \"/home/knusslab/anaconda3/envs/JupyterServer/lib/python3.6/concurrent/futures/process.py\", line 169, in _process_worker\n",
      "    call_item = call_queue.get(block=True)\n",
      "Traceback (most recent call last):\n",
      "  File \"/home/knusslab/anaconda3/envs/JupyterServer/lib/python3.6/multiprocessing/process.py\", line 258, in _bootstrap\n",
      "    self.run()\n",
      "Traceback (most recent call last):\n",
      "  File \"/home/knusslab/anaconda3/envs/JupyterServer/lib/python3.6/concurrent/futures/process.py\", line 169, in _process_worker\n",
      "    call_item = call_queue.get(block=True)\n",
      "  File \"/home/knusslab/anaconda3/envs/JupyterServer/lib/python3.6/multiprocessing/process.py\", line 93, in run\n",
      "    self._target(*self._args, **self._kwargs)\n",
      "  File \"/home/knusslab/anaconda3/envs/JupyterServer/lib/python3.6/multiprocessing/process.py\", line 93, in run\n",
      "    self._target(*self._args, **self._kwargs)\n",
      "  File \"/home/knusslab/anaconda3/envs/JupyterServer/lib/python3.6/multiprocessing/process.py\", line 258, in _bootstrap\n",
      "    self.run()\n"
     ]
    },
    {
     "name": "stdout",
     "output_type": "stream",
     "text": [
      "failed qry contents:  select * from acc_data where dev_id='0031' and time >= now() - 30m AND time <= now() - 20m\n"
     ]
    },
    {
     "name": "stderr",
     "output_type": "stream",
     "text": [
      "  File \"/home/knusslab/anaconda3/envs/JupyterServer/lib/python3.6/multiprocessing/process.py\", line 258, in _bootstrap\n",
      "    self.run()\n",
      "  File \"/home/knusslab/anaconda3/envs/JupyterServer/lib/python3.6/multiprocessing/process.py\", line 258, in _bootstrap\n",
      "    self.run()\n",
      "  File \"/home/knusslab/anaconda3/envs/JupyterServer/lib/python3.6/multiprocessing/process.py\", line 93, in run\n",
      "    self._target(*self._args, **self._kwargs)\n",
      "  File \"/home/knusslab/anaconda3/envs/JupyterServer/lib/python3.6/multiprocessing/process.py\", line 93, in run\n",
      "    self._target(*self._args, **self._kwargs)\n",
      "  File \"/home/knusslab/anaconda3/envs/JupyterServer/lib/python3.6/concurrent/futures/process.py\", line 169, in _process_worker\n",
      "    call_item = call_queue.get(block=True)\n",
      "  File \"/home/knusslab/anaconda3/envs/JupyterServer/lib/python3.6/multiprocessing/process.py\", line 258, in _bootstrap\n",
      "    self.run()\n"
     ]
    },
    {
     "ename": "KeyboardInterrupt",
     "evalue": "",
     "output_type": "error",
     "traceback": [
      "\u001b[0;31m---------------------------------------------------------------------------\u001b[0m",
      "\u001b[0;31mKeyboardInterrupt\u001b[0m                         Traceback (most recent call last)",
      "\u001b[0;32m<timed exec>\u001b[0m in \u001b[0;36m<module>\u001b[0;34m\u001b[0m\n",
      "\u001b[0;32m~/anaconda3/envs/JupyterServer/lib/python3.6/concurrent/futures/_base.py\u001b[0m in \u001b[0;36mas_completed\u001b[0;34m(fs, timeout)\u001b[0m\n\u001b[1;32m    238\u001b[0m                             len(pending), total_futures))\n\u001b[1;32m    239\u001b[0m \u001b[0;34m\u001b[0m\u001b[0m\n\u001b[0;32m--> 240\u001b[0;31m             \u001b[0mwaiter\u001b[0m\u001b[0;34m.\u001b[0m\u001b[0mevent\u001b[0m\u001b[0;34m.\u001b[0m\u001b[0mwait\u001b[0m\u001b[0;34m(\u001b[0m\u001b[0mwait_timeout\u001b[0m\u001b[0;34m)\u001b[0m\u001b[0;34m\u001b[0m\u001b[0;34m\u001b[0m\u001b[0m\n\u001b[0m\u001b[1;32m    241\u001b[0m \u001b[0;34m\u001b[0m\u001b[0m\n\u001b[1;32m    242\u001b[0m             \u001b[0;32mwith\u001b[0m \u001b[0mwaiter\u001b[0m\u001b[0;34m.\u001b[0m\u001b[0mlock\u001b[0m\u001b[0;34m:\u001b[0m\u001b[0;34m\u001b[0m\u001b[0;34m\u001b[0m\u001b[0m\n",
      "\u001b[0;32m~/anaconda3/envs/JupyterServer/lib/python3.6/threading.py\u001b[0m in \u001b[0;36mwait\u001b[0;34m(self, timeout)\u001b[0m\n\u001b[1;32m    549\u001b[0m             \u001b[0msignaled\u001b[0m \u001b[0;34m=\u001b[0m \u001b[0mself\u001b[0m\u001b[0;34m.\u001b[0m\u001b[0m_flag\u001b[0m\u001b[0;34m\u001b[0m\u001b[0;34m\u001b[0m\u001b[0m\n\u001b[1;32m    550\u001b[0m             \u001b[0;32mif\u001b[0m \u001b[0;32mnot\u001b[0m \u001b[0msignaled\u001b[0m\u001b[0;34m:\u001b[0m\u001b[0;34m\u001b[0m\u001b[0;34m\u001b[0m\u001b[0m\n\u001b[0;32m--> 551\u001b[0;31m                 \u001b[0msignaled\u001b[0m \u001b[0;34m=\u001b[0m \u001b[0mself\u001b[0m\u001b[0;34m.\u001b[0m\u001b[0m_cond\u001b[0m\u001b[0;34m.\u001b[0m\u001b[0mwait\u001b[0m\u001b[0;34m(\u001b[0m\u001b[0mtimeout\u001b[0m\u001b[0;34m)\u001b[0m\u001b[0;34m\u001b[0m\u001b[0;34m\u001b[0m\u001b[0m\n\u001b[0m\u001b[1;32m    552\u001b[0m             \u001b[0;32mreturn\u001b[0m \u001b[0msignaled\u001b[0m\u001b[0;34m\u001b[0m\u001b[0;34m\u001b[0m\u001b[0m\n\u001b[1;32m    553\u001b[0m \u001b[0;34m\u001b[0m\u001b[0m\n",
      "\u001b[0;32m~/anaconda3/envs/JupyterServer/lib/python3.6/threading.py\u001b[0m in \u001b[0;36mwait\u001b[0;34m(self, timeout)\u001b[0m\n\u001b[1;32m    297\u001b[0m             \u001b[0;32melse\u001b[0m\u001b[0;34m:\u001b[0m\u001b[0;34m\u001b[0m\u001b[0;34m\u001b[0m\u001b[0m\n\u001b[1;32m    298\u001b[0m                 \u001b[0;32mif\u001b[0m \u001b[0mtimeout\u001b[0m \u001b[0;34m>\u001b[0m \u001b[0;36m0\u001b[0m\u001b[0;34m:\u001b[0m\u001b[0;34m\u001b[0m\u001b[0;34m\u001b[0m\u001b[0m\n\u001b[0;32m--> 299\u001b[0;31m                     \u001b[0mgotit\u001b[0m \u001b[0;34m=\u001b[0m \u001b[0mwaiter\u001b[0m\u001b[0;34m.\u001b[0m\u001b[0macquire\u001b[0m\u001b[0;34m(\u001b[0m\u001b[0;32mTrue\u001b[0m\u001b[0;34m,\u001b[0m \u001b[0mtimeout\u001b[0m\u001b[0;34m)\u001b[0m\u001b[0;34m\u001b[0m\u001b[0;34m\u001b[0m\u001b[0m\n\u001b[0m\u001b[1;32m    300\u001b[0m                 \u001b[0;32melse\u001b[0m\u001b[0;34m:\u001b[0m\u001b[0;34m\u001b[0m\u001b[0;34m\u001b[0m\u001b[0m\n\u001b[1;32m    301\u001b[0m                     \u001b[0mgotit\u001b[0m \u001b[0;34m=\u001b[0m \u001b[0mwaiter\u001b[0m\u001b[0;34m.\u001b[0m\u001b[0macquire\u001b[0m\u001b[0;34m(\u001b[0m\u001b[0;32mFalse\u001b[0m\u001b[0;34m)\u001b[0m\u001b[0;34m\u001b[0m\u001b[0;34m\u001b[0m\u001b[0m\n",
      "\u001b[0;31mKeyboardInterrupt\u001b[0m: "
     ]
    },
    {
     "name": "stderr",
     "output_type": "stream",
     "text": [
      "  File \"/home/knusslab/anaconda3/envs/JupyterServer/lib/python3.6/concurrent/futures/process.py\", line 169, in _process_worker\n",
      "    call_item = call_queue.get(block=True)\n",
      "  File \"/home/knusslab/anaconda3/envs/JupyterServer/lib/python3.6/multiprocessing/process.py\", line 93, in run\n",
      "    self._target(*self._args, **self._kwargs)\n",
      "  File \"/home/knusslab/anaconda3/envs/JupyterServer/lib/python3.6/multiprocessing/process.py\", line 93, in run\n",
      "    self._target(*self._args, **self._kwargs)\n"
     ]
    },
    {
     "name": "stdout",
     "output_type": "stream",
     "text": [
      "cannot query to influxDB\n"
     ]
    },
    {
     "name": "stderr",
     "output_type": "stream",
     "text": [
      "  File \"/home/knusslab/anaconda3/envs/JupyterServer/lib/python3.6/concurrent/futures/process.py\", line 169, in _process_worker\n",
      "    call_item = call_queue.get(block=True)\n",
      "  File \"/home/knusslab/anaconda3/envs/JupyterServer/lib/python3.6/concurrent/futures/process.py\", line 169, in _process_worker\n",
      "    call_item = call_queue.get(block=True)\n",
      "  File \"/home/knusslab/anaconda3/envs/JupyterServer/lib/python3.6/multiprocessing/process.py\", line 258, in _bootstrap\n",
      "    self.run()\n",
      "  File \"/home/knusslab/anaconda3/envs/JupyterServer/lib/python3.6/concurrent/futures/process.py\", line 169, in _process_worker\n",
      "    call_item = call_queue.get(block=True)\n",
      "  File \"/home/knusslab/anaconda3/envs/JupyterServer/lib/python3.6/multiprocessing/process.py\", line 93, in run\n",
      "    self._target(*self._args, **self._kwargs)\n",
      "  File \"/home/knusslab/anaconda3/envs/JupyterServer/lib/python3.6/multiprocessing/process.py\", line 258, in _bootstrap\n",
      "    self.run()\n",
      "  File \"/home/knusslab/anaconda3/envs/JupyterServer/lib/python3.6/multiprocessing/process.py\", line 93, in run\n",
      "    self._target(*self._args, **self._kwargs)\n",
      "  File \"/home/knusslab/anaconda3/envs/JupyterServer/lib/python3.6/concurrent/futures/process.py\", line 169, in _process_worker\n",
      "    call_item = call_queue.get(block=True)\n",
      "  File \"/home/knusslab/anaconda3/envs/JupyterServer/lib/python3.6/multiprocessing/process.py\", line 258, in _bootstrap\n",
      "    self.run()\n",
      "  File \"/home/knusslab/anaconda3/envs/JupyterServer/lib/python3.6/multiprocessing/process.py\", line 93, in run\n",
      "    self._target(*self._args, **self._kwargs)\n",
      "  File \"/home/knusslab/anaconda3/envs/JupyterServer/lib/python3.6/concurrent/futures/process.py\", line 169, in _process_worker\n",
      "    call_item = call_queue.get(block=True)\n",
      "  File \"/home/knusslab/anaconda3/envs/JupyterServer/lib/python3.6/concurrent/futures/process.py\", line 169, in _process_worker\n",
      "    call_item = call_queue.get(block=True)\n",
      "  File \"/home/knusslab/anaconda3/envs/JupyterServer/lib/python3.6/concurrent/futures/process.py\", line 169, in _process_worker\n",
      "    call_item = call_queue.get(block=True)\n"
     ]
    },
    {
     "name": "stdout",
     "output_type": "stream",
     "text": [
      "failed qry contents:  select * from acc_data where dev_id='0048' and time >= now() - 30m AND time <= now() - 20m\n"
     ]
    },
    {
     "name": "stderr",
     "output_type": "stream",
     "text": [
      "  File \"/home/knusslab/anaconda3/envs/JupyterServer/lib/python3.6/multiprocessing/process.py\", line 93, in run\n",
      "    self._target(*self._args, **self._kwargs)\n",
      "  File \"/home/knusslab/anaconda3/envs/JupyterServer/lib/python3.6/concurrent/futures/process.py\", line 169, in _process_worker\n",
      "    call_item = call_queue.get(block=True)\n",
      "  File \"/home/knusslab/anaconda3/envs/JupyterServer/lib/python3.6/multiprocessing/process.py\", line 93, in run\n",
      "    self._target(*self._args, **self._kwargs)\n",
      "  File \"/home/knusslab/anaconda3/envs/JupyterServer/lib/python3.6/multiprocessing/process.py\", line 93, in run\n",
      "    self._target(*self._args, **self._kwargs)\n"
     ]
    },
    {
     "name": "stdout",
     "output_type": "stream",
     "text": [
      "failed qry contents:  select * from acc_data where dev_id='0083' and time >= now() - 30m AND time <= now() - 20m\n"
     ]
    },
    {
     "name": "stderr",
     "output_type": "stream",
     "text": [
      "  File \"/home/knusslab/anaconda3/envs/JupyterServer/lib/python3.6/concurrent/futures/process.py\", line 169, in _process_worker\n",
      "    call_item = call_queue.get(block=True)\n",
      "  File \"/home/knusslab/anaconda3/envs/JupyterServer/lib/python3.6/multiprocessing/process.py\", line 93, in run\n",
      "    self._target(*self._args, **self._kwargs)\n",
      "  File \"/home/knusslab/anaconda3/envs/JupyterServer/lib/python3.6/concurrent/futures/process.py\", line 169, in _process_worker\n",
      "    call_item = call_queue.get(block=True)\n",
      "  File \"/home/knusslab/anaconda3/envs/JupyterServer/lib/python3.6/concurrent/futures/process.py\", line 169, in _process_worker\n",
      "    call_item = call_queue.get(block=True)\n",
      "  File \"/home/knusslab/anaconda3/envs/JupyterServer/lib/python3.6/multiprocessing/queues.py\", line 93, in get\n",
      "    with self._rlock:\n",
      "  File \"/home/knusslab/anaconda3/envs/JupyterServer/lib/python3.6/multiprocessing/process.py\", line 258, in _bootstrap\n",
      "    self.run()\n",
      "  File \"/home/knusslab/anaconda3/envs/JupyterServer/lib/python3.6/multiprocessing/queues.py\", line 93, in get\n",
      "    with self._rlock:\n",
      "  File \"/home/knusslab/anaconda3/envs/JupyterServer/lib/python3.6/concurrent/futures/process.py\", line 169, in _process_worker\n",
      "    call_item = call_queue.get(block=True)\n",
      "  File \"/home/knusslab/anaconda3/envs/JupyterServer/lib/python3.6/multiprocessing/process.py\", line 93, in run\n",
      "    self._target(*self._args, **self._kwargs)\n",
      "  File \"/home/knusslab/anaconda3/envs/JupyterServer/lib/python3.6/multiprocessing/queues.py\", line 93, in get\n",
      "    with self._rlock:\n",
      "  File \"/home/knusslab/anaconda3/envs/JupyterServer/lib/python3.6/concurrent/futures/process.py\", line 169, in _process_worker\n",
      "    call_item = call_queue.get(block=True)\n",
      "  File \"/home/knusslab/anaconda3/envs/JupyterServer/lib/python3.6/concurrent/futures/process.py\", line 169, in _process_worker\n",
      "    call_item = call_queue.get(block=True)\n",
      "  File \"/home/knusslab/anaconda3/envs/JupyterServer/lib/python3.6/multiprocessing/process.py\", line 93, in run\n",
      "    self._target(*self._args, **self._kwargs)\n",
      "  File \"/home/knusslab/anaconda3/envs/JupyterServer/lib/python3.6/concurrent/futures/process.py\", line 169, in _process_worker\n",
      "    call_item = call_queue.get(block=True)\n",
      "  File \"/home/knusslab/anaconda3/envs/JupyterServer/lib/python3.6/concurrent/futures/process.py\", line 169, in _process_worker\n",
      "    call_item = call_queue.get(block=True)\n",
      "  File \"/home/knusslab/anaconda3/envs/JupyterServer/lib/python3.6/concurrent/futures/process.py\", line 169, in _process_worker\n",
      "    call_item = call_queue.get(block=True)\n",
      "  File \"/home/knusslab/anaconda3/envs/JupyterServer/lib/python3.6/multiprocessing/process.py\", line 93, in run\n",
      "    self._target(*self._args, **self._kwargs)\n",
      "  File \"/home/knusslab/anaconda3/envs/JupyterServer/lib/python3.6/concurrent/futures/process.py\", line 169, in _process_worker\n",
      "    call_item = call_queue.get(block=True)\n",
      "  File \"/home/knusslab/anaconda3/envs/JupyterServer/lib/python3.6/multiprocessing/process.py\", line 93, in run\n",
      "    self._target(*self._args, **self._kwargs)\n",
      "  File \"/home/knusslab/anaconda3/envs/JupyterServer/lib/python3.6/concurrent/futures/process.py\", line 169, in _process_worker\n",
      "    call_item = call_queue.get(block=True)\n",
      "  File \"/home/knusslab/anaconda3/envs/JupyterServer/lib/python3.6/multiprocessing/process.py\", line 93, in run\n",
      "    self._target(*self._args, **self._kwargs)\n",
      "  File \"/home/knusslab/anaconda3/envs/JupyterServer/lib/python3.6/multiprocessing/queues.py\", line 93, in get\n",
      "    with self._rlock:\n",
      "  File \"/home/knusslab/anaconda3/envs/JupyterServer/lib/python3.6/concurrent/futures/process.py\", line 169, in _process_worker\n",
      "    call_item = call_queue.get(block=True)\n",
      "  File \"/home/knusslab/anaconda3/envs/JupyterServer/lib/python3.6/multiprocessing/queues.py\", line 93, in get\n",
      "    with self._rlock:\n",
      "  File \"/home/knusslab/anaconda3/envs/JupyterServer/lib/python3.6/concurrent/futures/process.py\", line 169, in _process_worker\n",
      "    call_item = call_queue.get(block=True)\n",
      "  File \"/home/knusslab/anaconda3/envs/JupyterServer/lib/python3.6/multiprocessing/queues.py\", line 93, in get\n",
      "    with self._rlock:\n",
      "  File \"/home/knusslab/anaconda3/envs/JupyterServer/lib/python3.6/concurrent/futures/process.py\", line 169, in _process_worker\n",
      "    call_item = call_queue.get(block=True)\n",
      "  File \"/home/knusslab/anaconda3/envs/JupyterServer/lib/python3.6/multiprocessing/queues.py\", line 93, in get\n",
      "    with self._rlock:\n",
      "  File \"/home/knusslab/anaconda3/envs/JupyterServer/lib/python3.6/multiprocessing/queues.py\", line 93, in get\n",
      "    with self._rlock:\n",
      "  File \"/home/knusslab/anaconda3/envs/JupyterServer/lib/python3.6/multiprocessing/queues.py\", line 93, in get\n",
      "    with self._rlock:\n",
      "  File \"/home/knusslab/anaconda3/envs/JupyterServer/lib/python3.6/multiprocessing/queues.py\", line 93, in get\n",
      "    with self._rlock:\n"
     ]
    },
    {
     "name": "stdout",
     "output_type": "stream",
     "text": [
      "failed qry contents:  select * from acc_data where dev_id='0288' and time >= now() - 30m AND time <= now() - 20m\n"
     ]
    },
    {
     "name": "stderr",
     "output_type": "stream",
     "text": [
      "  File \"/home/knusslab/anaconda3/envs/JupyterServer/lib/python3.6/concurrent/futures/process.py\", line 169, in _process_worker\n",
      "    call_item = call_queue.get(block=True)\n",
      "  File \"/home/knusslab/anaconda3/envs/JupyterServer/lib/python3.6/multiprocessing/process.py\", line 258, in _bootstrap\n",
      "    self.run()\n",
      "  File \"/home/knusslab/anaconda3/envs/JupyterServer/lib/python3.6/multiprocessing/process.py\", line 93, in run\n",
      "    self._target(*self._args, **self._kwargs)\n",
      "  File \"/home/knusslab/anaconda3/envs/JupyterServer/lib/python3.6/concurrent/futures/process.py\", line 169, in _process_worker\n",
      "    call_item = call_queue.get(block=True)\n",
      "  File \"/home/knusslab/anaconda3/envs/JupyterServer/lib/python3.6/concurrent/futures/process.py\", line 169, in _process_worker\n",
      "    call_item = call_queue.get(block=True)\n",
      "  File \"/home/knusslab/anaconda3/envs/JupyterServer/lib/python3.6/multiprocessing/queues.py\", line 93, in get\n",
      "    with self._rlock:\n",
      "  File \"/home/knusslab/anaconda3/envs/JupyterServer/lib/python3.6/concurrent/futures/process.py\", line 169, in _process_worker\n",
      "    call_item = call_queue.get(block=True)\n",
      "  File \"/home/knusslab/anaconda3/envs/JupyterServer/lib/python3.6/multiprocessing/queues.py\", line 93, in get\n",
      "    with self._rlock:\n",
      "  File \"/home/knusslab/anaconda3/envs/JupyterServer/lib/python3.6/multiprocessing/queues.py\", line 93, in get\n",
      "    with self._rlock:\n",
      "  File \"/home/knusslab/anaconda3/envs/JupyterServer/lib/python3.6/multiprocessing/queues.py\", line 93, in get\n",
      "    with self._rlock:\n",
      "  File \"/home/knusslab/anaconda3/envs/JupyterServer/lib/python3.6/multiprocessing/process.py\", line 93, in run\n",
      "    self._target(*self._args, **self._kwargs)\n",
      "  File \"/home/knusslab/anaconda3/envs/JupyterServer/lib/python3.6/multiprocessing/process.py\", line 93, in run\n",
      "    self._target(*self._args, **self._kwargs)\n",
      "  File \"/home/knusslab/anaconda3/envs/JupyterServer/lib/python3.6/multiprocessing/process.py\", line 93, in run\n",
      "    self._target(*self._args, **self._kwargs)\n",
      "  File \"/home/knusslab/anaconda3/envs/JupyterServer/lib/python3.6/concurrent/futures/process.py\", line 169, in _process_worker\n",
      "    call_item = call_queue.get(block=True)\n",
      "  File \"/home/knusslab/anaconda3/envs/JupyterServer/lib/python3.6/multiprocessing/queues.py\", line 93, in get\n",
      "    with self._rlock:\n",
      "  File \"/home/knusslab/anaconda3/envs/JupyterServer/lib/python3.6/multiprocessing/queues.py\", line 93, in get\n",
      "    with self._rlock:\n",
      "  File \"/home/knusslab/anaconda3/envs/JupyterServer/lib/python3.6/multiprocessing/queues.py\", line 93, in get\n",
      "    with self._rlock:\n",
      "  File \"/home/knusslab/anaconda3/envs/JupyterServer/lib/python3.6/concurrent/futures/process.py\", line 169, in _process_worker\n",
      "    call_item = call_queue.get(block=True)\n",
      "  File \"/home/knusslab/anaconda3/envs/JupyterServer/lib/python3.6/multiprocessing/queues.py\", line 93, in get\n",
      "    with self._rlock:\n",
      "  File \"/home/knusslab/anaconda3/envs/JupyterServer/lib/python3.6/multiprocessing/queues.py\", line 93, in get\n",
      "    with self._rlock:\n",
      "  File \"/home/knusslab/anaconda3/envs/JupyterServer/lib/python3.6/multiprocessing/synchronize.py\", line 95, in __enter__\n",
      "    return self._semlock.__enter__()\n",
      "  File \"/home/knusslab/anaconda3/envs/JupyterServer/lib/python3.6/concurrent/futures/process.py\", line 169, in _process_worker\n",
      "    call_item = call_queue.get(block=True)\n",
      "  File \"/home/knusslab/anaconda3/envs/JupyterServer/lib/python3.6/multiprocessing/queues.py\", line 93, in get\n",
      "    with self._rlock:\n",
      "  File \"/home/knusslab/anaconda3/envs/JupyterServer/lib/python3.6/multiprocessing/queues.py\", line 93, in get\n",
      "    with self._rlock:\n",
      "  File \"/home/knusslab/anaconda3/envs/JupyterServer/lib/python3.6/multiprocessing/queues.py\", line 93, in get\n",
      "    with self._rlock:\n",
      "  File \"/home/knusslab/anaconda3/envs/JupyterServer/lib/python3.6/multiprocessing/queues.py\", line 93, in get\n",
      "    with self._rlock:\n",
      "  File \"/home/knusslab/anaconda3/envs/JupyterServer/lib/python3.6/multiprocessing/synchronize.py\", line 95, in __enter__\n",
      "    return self._semlock.__enter__()\n",
      "  File \"/home/knusslab/anaconda3/envs/JupyterServer/lib/python3.6/multiprocessing/synchronize.py\", line 95, in __enter__\n",
      "    return self._semlock.__enter__()\n",
      "  File \"/home/knusslab/anaconda3/envs/JupyterServer/lib/python3.6/multiprocessing/queues.py\", line 93, in get\n",
      "    with self._rlock:\n",
      "  File \"/home/knusslab/anaconda3/envs/JupyterServer/lib/python3.6/multiprocessing/queues.py\", line 93, in get\n",
      "    with self._rlock:\n",
      "  File \"/home/knusslab/anaconda3/envs/JupyterServer/lib/python3.6/multiprocessing/queues.py\", line 93, in get\n",
      "    with self._rlock:\n",
      "  File \"/home/knusslab/anaconda3/envs/JupyterServer/lib/python3.6/multiprocessing/queues.py\", line 93, in get\n",
      "    with self._rlock:\n",
      "  File \"/home/knusslab/anaconda3/envs/JupyterServer/lib/python3.6/concurrent/futures/process.py\", line 169, in _process_worker\n",
      "    call_item = call_queue.get(block=True)\n",
      "  File \"/home/knusslab/anaconda3/envs/JupyterServer/lib/python3.6/multiprocessing/process.py\", line 258, in _bootstrap\n",
      "    self.run()\n",
      "  File \"/home/knusslab/anaconda3/envs/JupyterServer/lib/python3.6/multiprocessing/synchronize.py\", line 95, in __enter__\n",
      "    return self._semlock.__enter__()\n",
      "  File \"/home/knusslab/anaconda3/envs/JupyterServer/lib/python3.6/multiprocessing/synchronize.py\", line 95, in __enter__\n",
      "    return self._semlock.__enter__()\n",
      "  File \"/home/knusslab/anaconda3/envs/JupyterServer/lib/python3.6/multiprocessing/synchronize.py\", line 95, in __enter__\n",
      "    return self._semlock.__enter__()\n",
      "  File \"/home/knusslab/anaconda3/envs/JupyterServer/lib/python3.6/multiprocessing/synchronize.py\", line 95, in __enter__\n",
      "    return self._semlock.__enter__()\n",
      "  File \"/home/knusslab/anaconda3/envs/JupyterServer/lib/python3.6/multiprocessing/synchronize.py\", line 95, in __enter__\n",
      "    return self._semlock.__enter__()\n",
      "  File \"/home/knusslab/anaconda3/envs/JupyterServer/lib/python3.6/multiprocessing/synchronize.py\", line 95, in __enter__\n",
      "    return self._semlock.__enter__()\n",
      "  File \"/home/knusslab/anaconda3/envs/JupyterServer/lib/python3.6/multiprocessing/synchronize.py\", line 95, in __enter__\n",
      "    return self._semlock.__enter__()\n",
      "  File \"/home/knusslab/anaconda3/envs/JupyterServer/lib/python3.6/multiprocessing/queues.py\", line 94, in get\n",
      "    res = self._recv_bytes()\n",
      "  File \"/home/knusslab/anaconda3/envs/JupyterServer/lib/python3.6/concurrent/futures/process.py\", line 169, in _process_worker\n",
      "    call_item = call_queue.get(block=True)\n",
      "  File \"/home/knusslab/anaconda3/envs/JupyterServer/lib/python3.6/concurrent/futures/process.py\", line 169, in _process_worker\n",
      "    call_item = call_queue.get(block=True)\n",
      "  File \"/home/knusslab/anaconda3/envs/JupyterServer/lib/python3.6/multiprocessing/synchronize.py\", line 95, in __enter__\n",
      "    return self._semlock.__enter__()\n",
      "  File \"/home/knusslab/anaconda3/envs/JupyterServer/lib/python3.6/multiprocessing/queues.py\", line 93, in get\n",
      "    with self._rlock:\n",
      "  File \"/home/knusslab/anaconda3/envs/JupyterServer/lib/python3.6/multiprocessing/synchronize.py\", line 95, in __enter__\n",
      "    return self._semlock.__enter__()\n",
      "  File \"/home/knusslab/anaconda3/envs/JupyterServer/lib/python3.6/multiprocessing/synchronize.py\", line 95, in __enter__\n",
      "    return self._semlock.__enter__()\n",
      "  File \"/home/knusslab/anaconda3/envs/JupyterServer/lib/python3.6/multiprocessing/synchronize.py\", line 95, in __enter__\n",
      "    return self._semlock.__enter__()\n",
      "  File \"/home/knusslab/anaconda3/envs/JupyterServer/lib/python3.6/multiprocessing/synchronize.py\", line 95, in __enter__\n",
      "    return self._semlock.__enter__()\n"
     ]
    },
    {
     "name": "stdout",
     "output_type": "stream",
     "text": [
      "cannot query to influxDB\n"
     ]
    },
    {
     "name": "stderr",
     "output_type": "stream",
     "text": [
      "  File \"/home/knusslab/anaconda3/envs/JupyterServer/lib/python3.6/multiprocessing/queues.py\", line 93, in get\n",
      "    with self._rlock:\n",
      "  File \"/home/knusslab/anaconda3/envs/JupyterServer/lib/python3.6/multiprocessing/queues.py\", line 93, in get\n",
      "    with self._rlock:\n",
      "  File \"/home/knusslab/anaconda3/envs/JupyterServer/lib/python3.6/multiprocessing/synchronize.py\", line 95, in __enter__\n",
      "    return self._semlock.__enter__()\n",
      "  File \"/home/knusslab/anaconda3/envs/JupyterServer/lib/python3.6/concurrent/futures/process.py\", line 169, in _process_worker\n",
      "    call_item = call_queue.get(block=True)\n",
      "  File \"/home/knusslab/anaconda3/envs/JupyterServer/lib/python3.6/multiprocessing/synchronize.py\", line 95, in __enter__\n",
      "    return self._semlock.__enter__()\n",
      "  File \"/home/knusslab/anaconda3/envs/JupyterServer/lib/python3.6/multiprocessing/synchronize.py\", line 95, in __enter__\n",
      "    return self._semlock.__enter__()\n",
      "  File \"/home/knusslab/anaconda3/envs/JupyterServer/lib/python3.6/concurrent/futures/process.py\", line 169, in _process_worker\n",
      "    call_item = call_queue.get(block=True)\n",
      "KeyboardInterrupt\n",
      "  File \"/home/knusslab/anaconda3/envs/JupyterServer/lib/python3.6/multiprocessing/synchronize.py\", line 95, in __enter__\n",
      "    return self._semlock.__enter__()\n",
      "  File \"/home/knusslab/anaconda3/envs/JupyterServer/lib/python3.6/multiprocessing/queues.py\", line 93, in get\n",
      "    with self._rlock:\n",
      "  File \"/home/knusslab/anaconda3/envs/JupyterServer/lib/python3.6/multiprocessing/process.py\", line 258, in _bootstrap\n",
      "    self.run()\n",
      "  File \"/home/knusslab/anaconda3/envs/JupyterServer/lib/python3.6/concurrent/futures/process.py\", line 169, in _process_worker\n",
      "    call_item = call_queue.get(block=True)\n",
      "  File \"/home/knusslab/anaconda3/envs/JupyterServer/lib/python3.6/multiprocessing/synchronize.py\", line 95, in __enter__\n",
      "    return self._semlock.__enter__()\n",
      "  File \"/home/knusslab/anaconda3/envs/JupyterServer/lib/python3.6/multiprocessing/synchronize.py\", line 95, in __enter__\n",
      "    return self._semlock.__enter__()\n",
      "  File \"/home/knusslab/anaconda3/envs/JupyterServer/lib/python3.6/concurrent/futures/process.py\", line 169, in _process_worker\n",
      "    call_item = call_queue.get(block=True)\n",
      "KeyboardInterrupt\n",
      "  File \"/home/knusslab/anaconda3/envs/JupyterServer/lib/python3.6/multiprocessing/synchronize.py\", line 95, in __enter__\n",
      "    return self._semlock.__enter__()\n",
      "  File \"/home/knusslab/anaconda3/envs/JupyterServer/lib/python3.6/multiprocessing/queues.py\", line 93, in get\n",
      "    with self._rlock:\n",
      "  File \"/home/knusslab/anaconda3/envs/JupyterServer/lib/python3.6/multiprocessing/queues.py\", line 93, in get\n",
      "    with self._rlock:\n",
      "KeyboardInterrupt\n",
      "  File \"/home/knusslab/anaconda3/envs/JupyterServer/lib/python3.6/multiprocessing/synchronize.py\", line 95, in __enter__\n",
      "    return self._semlock.__enter__()\n",
      "  File \"/home/knusslab/anaconda3/envs/JupyterServer/lib/python3.6/multiprocessing/synchronize.py\", line 95, in __enter__\n",
      "    return self._semlock.__enter__()\n",
      "  File \"/home/knusslab/anaconda3/envs/JupyterServer/lib/python3.6/multiprocessing/process.py\", line 93, in run\n",
      "    self._target(*self._args, **self._kwargs)\n",
      "  File \"/home/knusslab/anaconda3/envs/JupyterServer/lib/python3.6/multiprocessing/synchronize.py\", line 95, in __enter__\n",
      "    return self._semlock.__enter__()\n",
      "  File \"/home/knusslab/anaconda3/envs/JupyterServer/lib/python3.6/concurrent/futures/process.py\", line 169, in _process_worker\n",
      "    call_item = call_queue.get(block=True)\n",
      "  File \"/home/knusslab/anaconda3/envs/JupyterServer/lib/python3.6/multiprocessing/queues.py\", line 93, in get\n",
      "    with self._rlock:\n",
      "  File \"/home/knusslab/anaconda3/envs/JupyterServer/lib/python3.6/multiprocessing/queues.py\", line 93, in get\n",
      "    with self._rlock:\n",
      "  File \"/home/knusslab/anaconda3/envs/JupyterServer/lib/python3.6/multiprocessing/process.py\", line 93, in run\n",
      "    self._target(*self._args, **self._kwargs)\n",
      "KeyboardInterrupt\n",
      "KeyboardInterrupt\n",
      "KeyboardInterrupt\n",
      "  File \"/home/knusslab/anaconda3/envs/JupyterServer/lib/python3.6/multiprocessing/queues.py\", line 93, in get\n",
      "    with self._rlock:\n",
      "  File \"/home/knusslab/anaconda3/envs/JupyterServer/lib/python3.6/multiprocessing/synchronize.py\", line 95, in __enter__\n",
      "    return self._semlock.__enter__()\n",
      "KeyboardInterrupt\n",
      "  File \"/home/knusslab/anaconda3/envs/JupyterServer/lib/python3.6/multiprocessing/queues.py\", line 93, in get\n",
      "    with self._rlock:\n",
      "KeyboardInterrupt\n",
      "  File \"/home/knusslab/anaconda3/envs/JupyterServer/lib/python3.6/multiprocessing/queues.py\", line 93, in get\n",
      "    with self._rlock:\n",
      "  File \"/home/knusslab/anaconda3/envs/JupyterServer/lib/python3.6/multiprocessing/queues.py\", line 93, in get\n",
      "    with self._rlock:\n",
      "KeyboardInterrupt\n",
      "  File \"/home/knusslab/anaconda3/envs/JupyterServer/lib/python3.6/multiprocessing/queues.py\", line 93, in get\n",
      "    with self._rlock:\n",
      "KeyboardInterrupt\n",
      "KeyboardInterrupt\n",
      "KeyboardInterrupt\n",
      "  File \"/home/knusslab/anaconda3/envs/JupyterServer/lib/python3.6/multiprocessing/synchronize.py\", line 95, in __enter__\n",
      "    return self._semlock.__enter__()\n",
      "KeyboardInterrupt\n"
     ]
    },
    {
     "name": "stdout",
     "output_type": "stream",
     "text": [
      "failed qry contents:  select * from acc_data where dev_id='0206' and time >= now() - 30m AND time <= now() - 20m\n"
     ]
    },
    {
     "name": "stderr",
     "output_type": "stream",
     "text": [
      "  File \"/home/knusslab/anaconda3/envs/JupyterServer/lib/python3.6/multiprocessing/synchronize.py\", line 95, in __enter__\n",
      "    return self._semlock.__enter__()\n",
      "  File \"/home/knusslab/anaconda3/envs/JupyterServer/lib/python3.6/multiprocessing/synchronize.py\", line 95, in __enter__\n",
      "    return self._semlock.__enter__()\n",
      "  File \"/home/knusslab/anaconda3/envs/JupyterServer/lib/python3.6/concurrent/futures/process.py\", line 169, in _process_worker\n",
      "    call_item = call_queue.get(block=True)\n",
      "  File \"/home/knusslab/anaconda3/envs/JupyterServer/lib/python3.6/multiprocessing/synchronize.py\", line 95, in __enter__\n",
      "    return self._semlock.__enter__()\n",
      "KeyboardInterrupt\n",
      "KeyboardInterrupt\n",
      "KeyboardInterrupt\n",
      "KeyboardInterrupt\n",
      "  File \"/home/knusslab/anaconda3/envs/JupyterServer/lib/python3.6/multiprocessing/synchronize.py\", line 95, in __enter__\n",
      "    return self._semlock.__enter__()\n",
      "  File \"/home/knusslab/anaconda3/envs/JupyterServer/lib/python3.6/multiprocessing/process.py\", line 93, in run\n",
      "    self._target(*self._args, **self._kwargs)\n",
      "  File \"/home/knusslab/anaconda3/envs/JupyterServer/lib/python3.6/multiprocessing/synchronize.py\", line 95, in __enter__\n",
      "    return self._semlock.__enter__()\n",
      "KeyboardInterrupt\n",
      "  File \"/home/knusslab/anaconda3/envs/JupyterServer/lib/python3.6/multiprocessing/synchronize.py\", line 95, in __enter__\n",
      "    return self._semlock.__enter__()\n",
      "KeyboardInterrupt\n",
      "  File \"/home/knusslab/anaconda3/envs/JupyterServer/lib/python3.6/multiprocessing/queues.py\", line 93, in get\n",
      "    with self._rlock:\n",
      "KeyboardInterrupt\n",
      "  File \"/home/knusslab/anaconda3/envs/JupyterServer/lib/python3.6/multiprocessing/queues.py\", line 93, in get\n",
      "    with self._rlock:\n",
      "  File \"/home/knusslab/anaconda3/envs/JupyterServer/lib/python3.6/multiprocessing/synchronize.py\", line 95, in __enter__\n",
      "    return self._semlock.__enter__()\n",
      "  File \"/home/knusslab/anaconda3/envs/JupyterServer/lib/python3.6/multiprocessing/synchronize.py\", line 95, in __enter__\n",
      "    return self._semlock.__enter__()\n",
      "KeyboardInterrupt\n",
      "KeyboardInterrupt\n",
      "KeyboardInterrupt\n",
      "KeyboardInterrupt\n",
      "KeyboardInterrupt\n",
      "  File \"/home/knusslab/anaconda3/envs/JupyterServer/lib/python3.6/multiprocessing/queues.py\", line 93, in get\n",
      "    with self._rlock:\n",
      "  File \"/home/knusslab/anaconda3/envs/JupyterServer/lib/python3.6/multiprocessing/connection.py\", line 216, in recv_bytes\n",
      "    buf = self._recv_bytes(maxlength)\n",
      "  File \"/home/knusslab/anaconda3/envs/JupyterServer/lib/python3.6/multiprocessing/synchronize.py\", line 95, in __enter__\n",
      "    return self._semlock.__enter__()\n",
      "KeyboardInterrupt\n",
      "KeyboardInterrupt\n",
      "KeyboardInterrupt\n",
      "KeyboardInterrupt\n",
      "  File \"/home/knusslab/anaconda3/envs/JupyterServer/lib/python3.6/concurrent/futures/process.py\", line 169, in _process_worker\n",
      "    call_item = call_queue.get(block=True)\n",
      "  File \"/home/knusslab/anaconda3/envs/JupyterServer/lib/python3.6/multiprocessing/synchronize.py\", line 95, in __enter__\n",
      "    return self._semlock.__enter__()\n",
      "  File \"/home/knusslab/anaconda3/envs/JupyterServer/lib/python3.6/multiprocessing/synchronize.py\", line 95, in __enter__\n",
      "    return self._semlock.__enter__()\n",
      "  File \"/home/knusslab/anaconda3/envs/JupyterServer/lib/python3.6/concurrent/futures/process.py\", line 169, in _process_worker\n",
      "    call_item = call_queue.get(block=True)\n",
      "  File \"/home/knusslab/anaconda3/envs/JupyterServer/lib/python3.6/multiprocessing/synchronize.py\", line 95, in __enter__\n",
      "    return self._semlock.__enter__()\n",
      "KeyboardInterrupt\n",
      "  File \"/home/knusslab/anaconda3/envs/JupyterServer/lib/python3.6/multiprocessing/synchronize.py\", line 95, in __enter__\n",
      "    return self._semlock.__enter__()\n",
      "KeyboardInterrupt\n",
      "  File \"/home/knusslab/anaconda3/envs/JupyterServer/lib/python3.6/multiprocessing/synchronize.py\", line 95, in __enter__\n",
      "    return self._semlock.__enter__()\n",
      "KeyboardInterrupt\n",
      "  File \"/home/knusslab/anaconda3/envs/JupyterServer/lib/python3.6/multiprocessing/synchronize.py\", line 95, in __enter__\n",
      "    return self._semlock.__enter__()\n",
      "  File \"/home/knusslab/anaconda3/envs/JupyterServer/lib/python3.6/multiprocessing/synchronize.py\", line 95, in __enter__\n",
      "    return self._semlock.__enter__()\n",
      "KeyboardInterrupt\n",
      "KeyboardInterrupt\n",
      "KeyboardInterrupt\n",
      "  File \"/home/knusslab/anaconda3/envs/JupyterServer/lib/python3.6/multiprocessing/connection.py\", line 407, in _recv_bytes\n",
      "    buf = self._recv(4)\n",
      "KeyboardInterrupt\n",
      "KeyboardInterrupt\n",
      "KeyboardInterrupt\n",
      "KeyboardInterrupt\n",
      "KeyboardInterrupt\n",
      "  File \"/home/knusslab/anaconda3/envs/JupyterServer/lib/python3.6/multiprocessing/queues.py\", line 93, in get\n",
      "    with self._rlock:\n",
      "KeyboardInterrupt\n",
      "  File \"/home/knusslab/anaconda3/envs/JupyterServer/lib/python3.6/multiprocessing/connection.py\", line 379, in _recv\n",
      "    chunk = read(handle, remaining)\n",
      "KeyboardInterrupt\n",
      "KeyboardInterrupt\n",
      "  File \"/home/knusslab/anaconda3/envs/JupyterServer/lib/python3.6/multiprocessing/queues.py\", line 93, in get\n",
      "    with self._rlock:\n",
      "KeyboardInterrupt\n",
      "  File \"/home/knusslab/anaconda3/envs/JupyterServer/lib/python3.6/multiprocessing/synchronize.py\", line 95, in __enter__\n",
      "    return self._semlock.__enter__()\n",
      "KeyboardInterrupt\n",
      "  File \"/home/knusslab/anaconda3/envs/JupyterServer/lib/python3.6/multiprocessing/synchronize.py\", line 95, in __enter__\n",
      "    return self._semlock.__enter__()\n",
      "KeyboardInterrupt\n",
      "Process Process-135:\n",
      "Traceback (most recent call last):\n",
      "  File \"/home/knusslab/anaconda3/envs/JupyterServer/lib/python3.6/multiprocessing/process.py\", line 258, in _bootstrap\n",
      "    self.run()\n",
      "  File \"/home/knusslab/anaconda3/envs/JupyterServer/lib/python3.6/multiprocessing/process.py\", line 93, in run\n",
      "    self._target(*self._args, **self._kwargs)\n"
     ]
    }
   ],
   "source": [
    "%%time\n",
    "from concurrent.futures import ProcessPoolExecutor, as_completed, wait\n",
    "pool = ProcessPoolExecutor(len(device_ids))\n",
    "futures = []\n",
    "for dev_id in device_ids:\n",
    "    futures.append(pool.submit(psd_processing,dev_id))\n",
    "\n",
    "err_devices = [] \n",
    "\n",
    "for x in as_completed(futures,timeout=120):\n",
    "    if type(x.result()) is dict:\n",
    "        new_df = new_df.append(x.result(),ignore_index=True)\n",
    "    else:\n",
    "        err_devices.append(x.result())"
   ]
  },
  {
   "cell_type": "code",
   "execution_count": 11,
   "metadata": {},
   "outputs": [
    {
     "data": {
      "text/html": [
       "<div>\n",
       "<style scoped>\n",
       "    .dataframe tbody tr th:only-of-type {\n",
       "        vertical-align: middle;\n",
       "    }\n",
       "\n",
       "    .dataframe tbody tr th {\n",
       "        vertical-align: top;\n",
       "    }\n",
       "\n",
       "    .dataframe thead th {\n",
       "        text-align: right;\n",
       "    }\n",
       "</style>\n",
       "<table border=\"1\" class=\"dataframe\">\n",
       "  <thead>\n",
       "    <tr style=\"text-align: right;\">\n",
       "      <th></th>\n",
       "      <th>dev_id</th>\n",
       "      <th>Mean_PSD_x</th>\n",
       "      <th>Mean_PSD_y</th>\n",
       "      <th>Mean_PSD_z</th>\n",
       "      <th>MSE_PSD_x</th>\n",
       "      <th>MSE_PSD_y</th>\n",
       "      <th>MSE_PSD_z</th>\n",
       "    </tr>\n",
       "  </thead>\n",
       "  <tbody>\n",
       "    <tr>\n",
       "      <th>0</th>\n",
       "      <td>0064</td>\n",
       "      <td>2.298572e-03</td>\n",
       "      <td>3.309634e-03</td>\n",
       "      <td>0.000888</td>\n",
       "      <td>8.065001e-05</td>\n",
       "      <td>1.618696e-04</td>\n",
       "      <td>8.168634e-06</td>\n",
       "    </tr>\n",
       "    <tr>\n",
       "      <th>1</th>\n",
       "      <td>0057</td>\n",
       "      <td>2.085317e-06</td>\n",
       "      <td>2.001355e-06</td>\n",
       "      <td>0.000002</td>\n",
       "      <td>4.395754e-12</td>\n",
       "      <td>4.034671e-12</td>\n",
       "      <td>6.140002e-12</td>\n",
       "    </tr>\n",
       "    <tr>\n",
       "      <th>2</th>\n",
       "      <td>0085</td>\n",
       "      <td>2.515932e-06</td>\n",
       "      <td>2.328951e-06</td>\n",
       "      <td>0.000004</td>\n",
       "      <td>6.766213e-12</td>\n",
       "      <td>6.034993e-12</td>\n",
       "      <td>3.947526e-11</td>\n",
       "    </tr>\n",
       "    <tr>\n",
       "      <th>3</th>\n",
       "      <td>0027</td>\n",
       "      <td>5.510401e-08</td>\n",
       "      <td>2.460334e-06</td>\n",
       "      <td>0.000002</td>\n",
       "      <td>3.062933e-15</td>\n",
       "      <td>6.125980e-12</td>\n",
       "      <td>3.183304e-12</td>\n",
       "    </tr>\n",
       "    <tr>\n",
       "      <th>4</th>\n",
       "      <td>0073</td>\n",
       "      <td>4.192130e-04</td>\n",
       "      <td>2.160796e-06</td>\n",
       "      <td>0.000003</td>\n",
       "      <td>1.779505e-07</td>\n",
       "      <td>4.715288e-12</td>\n",
       "      <td>9.912683e-12</td>\n",
       "    </tr>\n",
       "    <tr>\n",
       "      <th>5</th>\n",
       "      <td>0026</td>\n",
       "      <td>1.877281e-06</td>\n",
       "      <td>2.204355e-06</td>\n",
       "      <td>0.000003</td>\n",
       "      <td>3.692302e-12</td>\n",
       "      <td>4.947467e-12</td>\n",
       "      <td>8.579022e-12</td>\n",
       "    </tr>\n",
       "    <tr>\n",
       "      <th>6</th>\n",
       "      <td>0062</td>\n",
       "      <td>1.968084e-06</td>\n",
       "      <td>1.412429e-06</td>\n",
       "      <td>0.000002</td>\n",
       "      <td>9.526784e-12</td>\n",
       "      <td>3.746721e-12</td>\n",
       "      <td>7.003432e-12</td>\n",
       "    </tr>\n",
       "    <tr>\n",
       "      <th>7</th>\n",
       "      <td>0079</td>\n",
       "      <td>1.857784e-06</td>\n",
       "      <td>3.778011e-06</td>\n",
       "      <td>0.000002</td>\n",
       "      <td>3.482019e-12</td>\n",
       "      <td>1.462275e-11</td>\n",
       "      <td>6.222581e-12</td>\n",
       "    </tr>\n",
       "    <tr>\n",
       "      <th>8</th>\n",
       "      <td>0015</td>\n",
       "      <td>1.869263e-06</td>\n",
       "      <td>9.433214e-08</td>\n",
       "      <td>0.000002</td>\n",
       "      <td>3.604871e-12</td>\n",
       "      <td>8.979279e-15</td>\n",
       "      <td>4.575525e-12</td>\n",
       "    </tr>\n",
       "    <tr>\n",
       "      <th>9</th>\n",
       "      <td>0040</td>\n",
       "      <td>1.725926e-06</td>\n",
       "      <td>6.014631e-07</td>\n",
       "      <td>0.000002</td>\n",
       "      <td>3.263209e-12</td>\n",
       "      <td>4.347852e-13</td>\n",
       "      <td>6.387868e-12</td>\n",
       "    </tr>\n",
       "    <tr>\n",
       "      <th>10</th>\n",
       "      <td>0024</td>\n",
       "      <td>1.670938e-06</td>\n",
       "      <td>6.070829e-06</td>\n",
       "      <td>0.000007</td>\n",
       "      <td>4.685254e-11</td>\n",
       "      <td>5.753970e-10</td>\n",
       "      <td>4.685947e-10</td>\n",
       "    </tr>\n",
       "    <tr>\n",
       "      <th>11</th>\n",
       "      <td>0021</td>\n",
       "      <td>2.865099e-06</td>\n",
       "      <td>2.903145e-06</td>\n",
       "      <td>0.000003</td>\n",
       "      <td>1.092612e-11</td>\n",
       "      <td>1.133298e-11</td>\n",
       "      <td>1.422307e-11</td>\n",
       "    </tr>\n",
       "    <tr>\n",
       "      <th>12</th>\n",
       "      <td>0018</td>\n",
       "      <td>1.945991e-06</td>\n",
       "      <td>2.008892e-06</td>\n",
       "      <td>0.000003</td>\n",
       "      <td>3.835743e-12</td>\n",
       "      <td>4.078163e-12</td>\n",
       "      <td>1.718560e-11</td>\n",
       "    </tr>\n",
       "    <tr>\n",
       "      <th>13</th>\n",
       "      <td>0282</td>\n",
       "      <td>2.007010e-06</td>\n",
       "      <td>1.648112e-06</td>\n",
       "      <td>0.000002</td>\n",
       "      <td>4.097305e-12</td>\n",
       "      <td>2.767898e-12</td>\n",
       "      <td>5.158845e-12</td>\n",
       "    </tr>\n",
       "    <tr>\n",
       "      <th>14</th>\n",
       "      <td>0088</td>\n",
       "      <td>2.099986e-06</td>\n",
       "      <td>3.685936e-06</td>\n",
       "      <td>0.000003</td>\n",
       "      <td>4.475414e-12</td>\n",
       "      <td>2.941196e-11</td>\n",
       "      <td>9.247256e-12</td>\n",
       "    </tr>\n",
       "    <tr>\n",
       "      <th>15</th>\n",
       "      <td>0043</td>\n",
       "      <td>2.473631e-06</td>\n",
       "      <td>2.849389e-06</td>\n",
       "      <td>0.000003</td>\n",
       "      <td>6.169519e-12</td>\n",
       "      <td>8.171316e-12</td>\n",
       "      <td>6.506937e-12</td>\n",
       "    </tr>\n",
       "    <tr>\n",
       "      <th>16</th>\n",
       "      <td>0061</td>\n",
       "      <td>1.274457e-06</td>\n",
       "      <td>1.617619e-07</td>\n",
       "      <td>0.000002</td>\n",
       "      <td>1.724685e-12</td>\n",
       "      <td>2.788230e-14</td>\n",
       "      <td>3.682633e-12</td>\n",
       "    </tr>\n",
       "    <tr>\n",
       "      <th>17</th>\n",
       "      <td>0090</td>\n",
       "      <td>1.753652e-06</td>\n",
       "      <td>3.176099e-06</td>\n",
       "      <td>0.000002</td>\n",
       "      <td>3.098076e-12</td>\n",
       "      <td>1.023454e-11</td>\n",
       "      <td>5.564423e-12</td>\n",
       "    </tr>\n",
       "    <tr>\n",
       "      <th>18</th>\n",
       "      <td>0068</td>\n",
       "      <td>1.190329e-06</td>\n",
       "      <td>2.019086e-06</td>\n",
       "      <td>0.000002</td>\n",
       "      <td>1.426360e-12</td>\n",
       "      <td>4.114262e-12</td>\n",
       "      <td>4.699449e-12</td>\n",
       "    </tr>\n",
       "    <tr>\n",
       "      <th>19</th>\n",
       "      <td>0032</td>\n",
       "      <td>2.674708e-06</td>\n",
       "      <td>2.721852e-06</td>\n",
       "      <td>0.000003</td>\n",
       "      <td>8.511766e-12</td>\n",
       "      <td>8.900206e-12</td>\n",
       "      <td>1.466429e-11</td>\n",
       "    </tr>\n",
       "    <tr>\n",
       "      <th>20</th>\n",
       "      <td>0037</td>\n",
       "      <td>1.768347e-06</td>\n",
       "      <td>1.023687e-07</td>\n",
       "      <td>0.000002</td>\n",
       "      <td>3.158682e-12</td>\n",
       "      <td>1.059390e-14</td>\n",
       "      <td>3.611361e-12</td>\n",
       "    </tr>\n",
       "    <tr>\n",
       "      <th>21</th>\n",
       "      <td>0281</td>\n",
       "      <td>5.644724e-06</td>\n",
       "      <td>4.555531e-06</td>\n",
       "      <td>0.000019</td>\n",
       "      <td>1.502197e-10</td>\n",
       "      <td>8.027304e-11</td>\n",
       "      <td>2.039684e-09</td>\n",
       "    </tr>\n",
       "    <tr>\n",
       "      <th>22</th>\n",
       "      <td>0087</td>\n",
       "      <td>1.608887e-06</td>\n",
       "      <td>1.672257e-06</td>\n",
       "      <td>0.000002</td>\n",
       "      <td>2.608409e-12</td>\n",
       "      <td>2.816961e-12</td>\n",
       "      <td>4.382853e-12</td>\n",
       "    </tr>\n",
       "    <tr>\n",
       "      <th>23</th>\n",
       "      <td>0274</td>\n",
       "      <td>1.317478e-06</td>\n",
       "      <td>2.122354e-06</td>\n",
       "      <td>0.000002</td>\n",
       "      <td>1.747669e-12</td>\n",
       "      <td>4.545328e-12</td>\n",
       "      <td>2.891497e-12</td>\n",
       "    </tr>\n",
       "    <tr>\n",
       "      <th>24</th>\n",
       "      <td>0084</td>\n",
       "      <td>1.620627e-06</td>\n",
       "      <td>1.901563e-06</td>\n",
       "      <td>0.000002</td>\n",
       "      <td>2.651210e-12</td>\n",
       "      <td>3.649775e-12</td>\n",
       "      <td>3.403365e-12</td>\n",
       "    </tr>\n",
       "    <tr>\n",
       "      <th>25</th>\n",
       "      <td>0255</td>\n",
       "      <td>1.412537e-06</td>\n",
       "      <td>1.658717e-06</td>\n",
       "      <td>0.000002</td>\n",
       "      <td>2.023168e-12</td>\n",
       "      <td>2.776858e-12</td>\n",
       "      <td>2.887644e-12</td>\n",
       "    </tr>\n",
       "    <tr>\n",
       "      <th>26</th>\n",
       "      <td>0168</td>\n",
       "      <td>1.429168e-06</td>\n",
       "      <td>5.666654e-07</td>\n",
       "      <td>0.000002</td>\n",
       "      <td>2.059736e-12</td>\n",
       "      <td>3.249242e-13</td>\n",
       "      <td>5.543242e-12</td>\n",
       "    </tr>\n",
       "    <tr>\n",
       "      <th>27</th>\n",
       "      <td>0077</td>\n",
       "      <td>1.301843e-06</td>\n",
       "      <td>7.281696e-07</td>\n",
       "      <td>0.000002</td>\n",
       "      <td>1.715932e-12</td>\n",
       "      <td>5.345562e-13</td>\n",
       "      <td>5.278896e-12</td>\n",
       "    </tr>\n",
       "    <tr>\n",
       "      <th>28</th>\n",
       "      <td>0169</td>\n",
       "      <td>4.076305e-07</td>\n",
       "      <td>2.127714e-06</td>\n",
       "      <td>0.000002</td>\n",
       "      <td>1.677295e-13</td>\n",
       "      <td>4.582293e-12</td>\n",
       "      <td>3.666967e-12</td>\n",
       "    </tr>\n",
       "    <tr>\n",
       "      <th>29</th>\n",
       "      <td>0030</td>\n",
       "      <td>2.188395e-06</td>\n",
       "      <td>1.363024e-07</td>\n",
       "      <td>0.000007</td>\n",
       "      <td>1.423249e-11</td>\n",
       "      <td>1.939154e-14</td>\n",
       "      <td>3.638884e-10</td>\n",
       "    </tr>\n",
       "    <tr>\n",
       "      <th>30</th>\n",
       "      <td>0276</td>\n",
       "      <td>1.970551e-06</td>\n",
       "      <td>2.171013e-06</td>\n",
       "      <td>0.000004</td>\n",
       "      <td>4.140988e-12</td>\n",
       "      <td>4.852348e-12</td>\n",
       "      <td>1.825168e-11</td>\n",
       "    </tr>\n",
       "    <tr>\n",
       "      <th>31</th>\n",
       "      <td>0211</td>\n",
       "      <td>1.432705e-06</td>\n",
       "      <td>1.898429e-08</td>\n",
       "      <td>0.000003</td>\n",
       "      <td>2.074068e-12</td>\n",
       "      <td>3.630477e-16</td>\n",
       "      <td>6.703588e-12</td>\n",
       "    </tr>\n",
       "    <tr>\n",
       "      <th>32</th>\n",
       "      <td>0053</td>\n",
       "      <td>1.599046e-06</td>\n",
       "      <td>3.016495e-06</td>\n",
       "      <td>0.000002</td>\n",
       "      <td>2.588182e-12</td>\n",
       "      <td>9.265247e-12</td>\n",
       "      <td>6.178108e-12</td>\n",
       "    </tr>\n",
       "    <tr>\n",
       "      <th>33</th>\n",
       "      <td>0078</td>\n",
       "      <td>1.628322e-06</td>\n",
       "      <td>1.386870e-06</td>\n",
       "      <td>0.000004</td>\n",
       "      <td>2.953154e-12</td>\n",
       "      <td>2.022150e-12</td>\n",
       "      <td>1.823510e-11</td>\n",
       "    </tr>\n",
       "    <tr>\n",
       "      <th>34</th>\n",
       "      <td>0150</td>\n",
       "      <td>1.425633e-06</td>\n",
       "      <td>8.353334e-08</td>\n",
       "      <td>0.000002</td>\n",
       "      <td>2.050860e-12</td>\n",
       "      <td>7.034690e-15</td>\n",
       "      <td>4.283233e-12</td>\n",
       "    </tr>\n",
       "    <tr>\n",
       "      <th>35</th>\n",
       "      <td>0116</td>\n",
       "      <td>2.520148e-06</td>\n",
       "      <td>9.820005e-07</td>\n",
       "      <td>0.000026</td>\n",
       "      <td>9.695515e-12</td>\n",
       "      <td>1.285694e-12</td>\n",
       "      <td>3.103684e-09</td>\n",
       "    </tr>\n",
       "    <tr>\n",
       "      <th>36</th>\n",
       "      <td>0166</td>\n",
       "      <td>1.536152e-06</td>\n",
       "      <td>1.782364e-06</td>\n",
       "      <td>0.000002</td>\n",
       "      <td>2.533133e-12</td>\n",
       "      <td>3.289434e-12</td>\n",
       "      <td>4.804325e-12</td>\n",
       "    </tr>\n",
       "    <tr>\n",
       "      <th>37</th>\n",
       "      <td>0233</td>\n",
       "      <td>1.525413e-06</td>\n",
       "      <td>1.100882e-06</td>\n",
       "      <td>0.000003</td>\n",
       "      <td>2.344933e-12</td>\n",
       "      <td>1.324165e-12</td>\n",
       "      <td>2.715900e-11</td>\n",
       "    </tr>\n",
       "    <tr>\n",
       "      <th>38</th>\n",
       "      <td>0047</td>\n",
       "      <td>1.793083e-06</td>\n",
       "      <td>2.042358e-06</td>\n",
       "      <td>0.000002</td>\n",
       "      <td>3.276837e-12</td>\n",
       "      <td>4.213509e-12</td>\n",
       "      <td>4.984791e-12</td>\n",
       "    </tr>\n",
       "  </tbody>\n",
       "</table>\n",
       "</div>"
      ],
      "text/plain": [
       "   dev_id    Mean_PSD_x    Mean_PSD_y  Mean_PSD_z     MSE_PSD_x     MSE_PSD_y  \\\n",
       "0    0064  2.298572e-03  3.309634e-03    0.000888  8.065001e-05  1.618696e-04   \n",
       "1    0057  2.085317e-06  2.001355e-06    0.000002  4.395754e-12  4.034671e-12   \n",
       "2    0085  2.515932e-06  2.328951e-06    0.000004  6.766213e-12  6.034993e-12   \n",
       "3    0027  5.510401e-08  2.460334e-06    0.000002  3.062933e-15  6.125980e-12   \n",
       "4    0073  4.192130e-04  2.160796e-06    0.000003  1.779505e-07  4.715288e-12   \n",
       "5    0026  1.877281e-06  2.204355e-06    0.000003  3.692302e-12  4.947467e-12   \n",
       "6    0062  1.968084e-06  1.412429e-06    0.000002  9.526784e-12  3.746721e-12   \n",
       "7    0079  1.857784e-06  3.778011e-06    0.000002  3.482019e-12  1.462275e-11   \n",
       "8    0015  1.869263e-06  9.433214e-08    0.000002  3.604871e-12  8.979279e-15   \n",
       "9    0040  1.725926e-06  6.014631e-07    0.000002  3.263209e-12  4.347852e-13   \n",
       "10   0024  1.670938e-06  6.070829e-06    0.000007  4.685254e-11  5.753970e-10   \n",
       "11   0021  2.865099e-06  2.903145e-06    0.000003  1.092612e-11  1.133298e-11   \n",
       "12   0018  1.945991e-06  2.008892e-06    0.000003  3.835743e-12  4.078163e-12   \n",
       "13   0282  2.007010e-06  1.648112e-06    0.000002  4.097305e-12  2.767898e-12   \n",
       "14   0088  2.099986e-06  3.685936e-06    0.000003  4.475414e-12  2.941196e-11   \n",
       "15   0043  2.473631e-06  2.849389e-06    0.000003  6.169519e-12  8.171316e-12   \n",
       "16   0061  1.274457e-06  1.617619e-07    0.000002  1.724685e-12  2.788230e-14   \n",
       "17   0090  1.753652e-06  3.176099e-06    0.000002  3.098076e-12  1.023454e-11   \n",
       "18   0068  1.190329e-06  2.019086e-06    0.000002  1.426360e-12  4.114262e-12   \n",
       "19   0032  2.674708e-06  2.721852e-06    0.000003  8.511766e-12  8.900206e-12   \n",
       "20   0037  1.768347e-06  1.023687e-07    0.000002  3.158682e-12  1.059390e-14   \n",
       "21   0281  5.644724e-06  4.555531e-06    0.000019  1.502197e-10  8.027304e-11   \n",
       "22   0087  1.608887e-06  1.672257e-06    0.000002  2.608409e-12  2.816961e-12   \n",
       "23   0274  1.317478e-06  2.122354e-06    0.000002  1.747669e-12  4.545328e-12   \n",
       "24   0084  1.620627e-06  1.901563e-06    0.000002  2.651210e-12  3.649775e-12   \n",
       "25   0255  1.412537e-06  1.658717e-06    0.000002  2.023168e-12  2.776858e-12   \n",
       "26   0168  1.429168e-06  5.666654e-07    0.000002  2.059736e-12  3.249242e-13   \n",
       "27   0077  1.301843e-06  7.281696e-07    0.000002  1.715932e-12  5.345562e-13   \n",
       "28   0169  4.076305e-07  2.127714e-06    0.000002  1.677295e-13  4.582293e-12   \n",
       "29   0030  2.188395e-06  1.363024e-07    0.000007  1.423249e-11  1.939154e-14   \n",
       "30   0276  1.970551e-06  2.171013e-06    0.000004  4.140988e-12  4.852348e-12   \n",
       "31   0211  1.432705e-06  1.898429e-08    0.000003  2.074068e-12  3.630477e-16   \n",
       "32   0053  1.599046e-06  3.016495e-06    0.000002  2.588182e-12  9.265247e-12   \n",
       "33   0078  1.628322e-06  1.386870e-06    0.000004  2.953154e-12  2.022150e-12   \n",
       "34   0150  1.425633e-06  8.353334e-08    0.000002  2.050860e-12  7.034690e-15   \n",
       "35   0116  2.520148e-06  9.820005e-07    0.000026  9.695515e-12  1.285694e-12   \n",
       "36   0166  1.536152e-06  1.782364e-06    0.000002  2.533133e-12  3.289434e-12   \n",
       "37   0233  1.525413e-06  1.100882e-06    0.000003  2.344933e-12  1.324165e-12   \n",
       "38   0047  1.793083e-06  2.042358e-06    0.000002  3.276837e-12  4.213509e-12   \n",
       "\n",
       "       MSE_PSD_z  \n",
       "0   8.168634e-06  \n",
       "1   6.140002e-12  \n",
       "2   3.947526e-11  \n",
       "3   3.183304e-12  \n",
       "4   9.912683e-12  \n",
       "5   8.579022e-12  \n",
       "6   7.003432e-12  \n",
       "7   6.222581e-12  \n",
       "8   4.575525e-12  \n",
       "9   6.387868e-12  \n",
       "10  4.685947e-10  \n",
       "11  1.422307e-11  \n",
       "12  1.718560e-11  \n",
       "13  5.158845e-12  \n",
       "14  9.247256e-12  \n",
       "15  6.506937e-12  \n",
       "16  3.682633e-12  \n",
       "17  5.564423e-12  \n",
       "18  4.699449e-12  \n",
       "19  1.466429e-11  \n",
       "20  3.611361e-12  \n",
       "21  2.039684e-09  \n",
       "22  4.382853e-12  \n",
       "23  2.891497e-12  \n",
       "24  3.403365e-12  \n",
       "25  2.887644e-12  \n",
       "26  5.543242e-12  \n",
       "27  5.278896e-12  \n",
       "28  3.666967e-12  \n",
       "29  3.638884e-10  \n",
       "30  1.825168e-11  \n",
       "31  6.703588e-12  \n",
       "32  6.178108e-12  \n",
       "33  1.823510e-11  \n",
       "34  4.283233e-12  \n",
       "35  3.103684e-09  \n",
       "36  4.804325e-12  \n",
       "37  2.715900e-11  \n",
       "38  4.984791e-12  "
      ]
     },
     "execution_count": 11,
     "metadata": {},
     "output_type": "execute_result"
    }
   ],
   "source": [
    "new_df"
   ]
  },
  {
   "cell_type": "code",
   "execution_count": 12,
   "metadata": {},
   "outputs": [
    {
     "data": {
      "text/plain": [
       "{'0023',\n",
       " '0028',\n",
       " '0031',\n",
       " '0033',\n",
       " '0034',\n",
       " '0036',\n",
       " '0038',\n",
       " '0041',\n",
       " '0042',\n",
       " '0046',\n",
       " '0048',\n",
       " '0050',\n",
       " '0051',\n",
       " '0052',\n",
       " '0054',\n",
       " '0055',\n",
       " '0056',\n",
       " '0060',\n",
       " '0065',\n",
       " '0066',\n",
       " '0069',\n",
       " '0070',\n",
       " '0071',\n",
       " '0075',\n",
       " '0076',\n",
       " '0080',\n",
       " '0081',\n",
       " '0082',\n",
       " '0083',\n",
       " '0086',\n",
       " '0089',\n",
       " '0091',\n",
       " '0092',\n",
       " '0093',\n",
       " '0098',\n",
       " '0100',\n",
       " '0101',\n",
       " '0102',\n",
       " '0104',\n",
       " '0105',\n",
       " '0106',\n",
       " '0107',\n",
       " '0108',\n",
       " '0110',\n",
       " '0111',\n",
       " '0112',\n",
       " '0113',\n",
       " '0114',\n",
       " '0115',\n",
       " '0119',\n",
       " '0120',\n",
       " '0122',\n",
       " '0123',\n",
       " '0124',\n",
       " '0125',\n",
       " '0127',\n",
       " '0128',\n",
       " '0134',\n",
       " '0135',\n",
       " '0136',\n",
       " '0137',\n",
       " '0138',\n",
       " '0139',\n",
       " '0140',\n",
       " '0141',\n",
       " '0143',\n",
       " '0144',\n",
       " '0145',\n",
       " '0146',\n",
       " '0149',\n",
       " '0161',\n",
       " '0162',\n",
       " '0163',\n",
       " '0164',\n",
       " '0165',\n",
       " '0167',\n",
       " '0170',\n",
       " '0171',\n",
       " '0172',\n",
       " '0173',\n",
       " '0175',\n",
       " '0176',\n",
       " '0177',\n",
       " '0178',\n",
       " '0179',\n",
       " '0180',\n",
       " '0181',\n",
       " '0182',\n",
       " '0183',\n",
       " '0184',\n",
       " '0185',\n",
       " '0186',\n",
       " '0187',\n",
       " '0188',\n",
       " '0189',\n",
       " '0190',\n",
       " '0192',\n",
       " '0194',\n",
       " '0198',\n",
       " '0203',\n",
       " '0205',\n",
       " '0206',\n",
       " '0208',\n",
       " '0209',\n",
       " '0210',\n",
       " '0212',\n",
       " '0213',\n",
       " '0214',\n",
       " '0215',\n",
       " '0216',\n",
       " '0217',\n",
       " '0218',\n",
       " '0219',\n",
       " '0220',\n",
       " '0222',\n",
       " '0223',\n",
       " '0224',\n",
       " '0225',\n",
       " '0228',\n",
       " '0229',\n",
       " '0234',\n",
       " '0235',\n",
       " '0238',\n",
       " '0239',\n",
       " '0250',\n",
       " '0252',\n",
       " '0254',\n",
       " '0256',\n",
       " '0258',\n",
       " '0259',\n",
       " '0260',\n",
       " '0261',\n",
       " '0262',\n",
       " '0263',\n",
       " '0264',\n",
       " '0265',\n",
       " '0266',\n",
       " '0267',\n",
       " '0268',\n",
       " '0270',\n",
       " '0273',\n",
       " '0275',\n",
       " '0277',\n",
       " '0278',\n",
       " '0279',\n",
       " '0284',\n",
       " '0288',\n",
       " '0289'}"
      ]
     },
     "execution_count": 12,
     "metadata": {},
     "output_type": "execute_result"
    }
   ],
   "source": [
    "cant_qry = set(device_ids) - set(err_devices) - set(new_df['dev_id'])\n",
    "cant_qry"
   ]
  },
  {
   "cell_type": "code",
   "execution_count": 13,
   "metadata": {},
   "outputs": [],
   "source": [
    "dev_id = new_df['dev_id']\n",
    "Feature = new_df.loc[:,new_df.columns != 'dev_id']"
   ]
  },
  {
   "cell_type": "code",
   "execution_count": 14,
   "metadata": {},
   "outputs": [
    {
     "data": {
      "text/plain": [
       "array([[ 6.06420010e+00,  6.16439551e+00,  6.16111905e+00,\n",
       "         6.16439901e+00,  6.16441400e+00,  6.16441338e+00],\n",
       "       [-1.88820039e-01, -1.62039319e-01, -1.71293995e-01,\n",
       "        -1.62588754e-01, -1.62222112e-01, -1.62344456e-01],\n",
       "       [-1.87647534e-01, -1.61412735e-01, -1.58302836e-01,\n",
       "        -1.62588568e-01, -1.62222034e-01, -1.62318637e-01],\n",
       "       [-1.94348033e-01, -1.61161440e-01, -1.76445559e-01,\n",
       "        -1.62589098e-01, -1.62222030e-01, -1.62346746e-01],\n",
       "       [ 9.46961789e-01, -1.61734360e-01, -1.66800672e-01,\n",
       "        -1.48628890e-01, -1.62222085e-01, -1.62341534e-01],\n",
       "       [-1.89386495e-01, -1.61651046e-01, -1.71018166e-01,\n",
       "        -1.62588809e-01, -1.62222076e-01, -1.62342567e-01],\n",
       "       [-1.89139250e-01, -1.63165745e-01, -1.73972697e-01,\n",
       "        -1.62588351e-01, -1.62222123e-01, -1.62343787e-01],\n",
       "       [-1.89439582e-01, -1.58641150e-01, -1.71368094e-01,\n",
       "        -1.62588825e-01, -1.62221698e-01, -1.62344392e-01],\n",
       "       [-1.89408327e-01, -1.65686840e-01, -1.73775702e-01,\n",
       "        -1.62588816e-01, -1.62222269e-01, -1.62345667e-01],\n",
       "       [-1.89798614e-01, -1.64716862e-01, -1.71757944e-01,\n",
       "        -1.62588842e-01, -1.62222253e-01, -1.62344264e-01],\n",
       "       [-1.89948338e-01, -1.54255728e-01, -1.37336722e-01,\n",
       "        -1.62585423e-01, -1.62199780e-01, -1.61986276e-01],\n",
       "       [-1.86696799e-01, -1.60314485e-01, -1.65409009e-01,\n",
       "        -1.62588241e-01, -1.62221827e-01, -1.62338195e-01],\n",
       "       [-1.89199407e-01, -1.62024903e-01, -1.69832646e-01,\n",
       "        -1.62588797e-01, -1.62222110e-01, -1.62335901e-01],\n",
       "       [-1.89033260e-01, -1.62714959e-01, -1.73739705e-01,\n",
       "        -1.62588777e-01, -1.62222161e-01, -1.62345216e-01],\n",
       "       [-1.88780098e-01, -1.58817260e-01, -1.69917498e-01,\n",
       "        -1.62588747e-01, -1.62221120e-01, -1.62342049e-01],\n",
       "       [-1.87762716e-01, -1.60417303e-01, -1.70841040e-01,\n",
       "        -1.62588614e-01, -1.62221950e-01, -1.62344171e-01],\n",
       "       [-1.91027900e-01, -1.65557868e-01, -1.75679374e-01,\n",
       "        -1.62588963e-01, -1.62222268e-01, -1.62346359e-01],\n",
       "       [-1.89723119e-01, -1.59792413e-01, -1.72161170e-01,\n",
       "        -1.62588855e-01, -1.62221870e-01, -1.62344901e-01],\n",
       "       [-1.91256971e-01, -1.62005406e-01, -1.73507015e-01,\n",
       "        -1.62588987e-01, -1.62222109e-01, -1.62345571e-01],\n",
       "       [-1.87215209e-01, -1.60661241e-01, -1.64101277e-01,\n",
       "        -1.62588431e-01, -1.62221922e-01, -1.62337853e-01],\n",
       "       [-1.89683107e-01, -1.65671468e-01, -1.75421637e-01,\n",
       "        -1.62588851e-01, -1.62222269e-01, -1.62346414e-01],\n",
       "       [-1.79128262e-01, -1.57154003e-01, -5.03575966e-02,\n",
       "        -1.62577314e-01, -1.62219132e-01, -1.60769437e-01],\n",
       "       [-1.90117294e-01, -1.62668779e-01, -1.74008419e-01,\n",
       "        -1.62588894e-01, -1.62222159e-01, -1.62345817e-01],\n",
       "       [-1.90910761e-01, -1.61807888e-01, -1.76852319e-01,\n",
       "        -1.62588961e-01, -1.62222092e-01, -1.62346972e-01],\n",
       "       [-1.90085328e-01, -1.62230189e-01, -1.75783628e-01,\n",
       "        -1.62588890e-01, -1.62222127e-01, -1.62346575e-01],\n",
       "       [-1.90651929e-01, -1.62694676e-01, -1.76865652e-01,\n",
       "        -1.62588940e-01, -1.62222161e-01, -1.62346975e-01],\n",
       "       [-1.90606645e-01, -1.64783418e-01, -1.72190217e-01,\n",
       "        -1.62588937e-01, -1.62222257e-01, -1.62344918e-01],\n",
       "       [-1.90953333e-01, -1.64474513e-01, -1.72854891e-01,\n",
       "        -1.62588964e-01, -1.62222249e-01, -1.62345123e-01],\n",
       "       [-1.93388152e-01, -1.61797636e-01, -1.75291179e-01,\n",
       "        -1.62589085e-01, -1.62222090e-01, -1.62346371e-01],\n",
       "       [-1.88539373e-01, -1.65606564e-01, -1.38048121e-01,\n",
       "        -1.62587982e-01, -1.62222269e-01, -1.62067373e-01],\n",
       "       [-1.89132532e-01, -1.61714819e-01, -1.62333944e-01,\n",
       "        -1.62588774e-01, -1.62222080e-01, -1.62335075e-01],\n",
       "       [-1.90597014e-01, -1.65830956e-01, -1.70517154e-01,\n",
       "        -1.62588936e-01, -1.62222270e-01, -1.62344019e-01],\n",
       "       [-1.90144089e-01, -1.60097684e-01, -1.72377676e-01,\n",
       "        -1.62588895e-01, -1.62221907e-01, -1.62344426e-01],\n",
       "       [-1.90064376e-01, -1.63214631e-01, -1.62314274e-01,\n",
       "        -1.62588867e-01, -1.62222191e-01, -1.62335088e-01],\n",
       "       [-1.90616269e-01, -1.65707494e-01, -1.74217565e-01,\n",
       "        -1.62588938e-01, -1.62222269e-01, -1.62345894e-01],\n",
       "       [-1.87636054e-01, -1.63989016e-01, -5.99972187e-03,\n",
       "        -1.62588338e-01, -1.62222219e-01, -1.59945349e-01],\n",
       "       [-1.90315341e-01, -1.62458179e-01, -1.74141308e-01,\n",
       "        -1.62588900e-01, -1.62222141e-01, -1.62345490e-01],\n",
       "       [-1.90344582e-01, -1.63761635e-01, -1.70496147e-01,\n",
       "        -1.62588914e-01, -1.62222218e-01, -1.62328176e-01],\n",
       "       [-1.89615755e-01, -1.61960894e-01, -1.73786480e-01,\n",
       "        -1.62588841e-01, -1.62222105e-01, -1.62345350e-01]])"
      ]
     },
     "execution_count": 14,
     "metadata": {},
     "output_type": "execute_result"
    }
   ],
   "source": [
    "from sklearn.preprocessing import StandardScaler\n",
    "ss = StandardScaler()\n",
    "ss.fit(Feature)\n",
    "Feature = ss.transform(Feature)\n",
    "Feature"
   ]
  },
  {
   "cell_type": "code",
   "execution_count": null,
   "metadata": {},
   "outputs": [],
   "source": [
    "k_means_centers = np.load('PSD_k-means_center.npy')"
   ]
  },
  {
   "cell_type": "code",
   "execution_count": null,
   "metadata": {},
   "outputs": [],
   "source": [
    "from sklearn.cluster import KMeans\n",
    "k_means = KMeans(n_clusters=6)\n",
    "k_means.cluster_centers_ = k_means_centers\n",
    "k_means_labels = k_means.predict(Feature)\n",
    "k_means_result = pd.concat([])"
   ]
  }
 ],
 "metadata": {
  "kernelspec": {
   "display_name": "Python 3",
   "language": "python",
   "name": "python3"
  },
  "language_info": {
   "codemirror_mode": {
    "name": "ipython",
    "version": 3
   },
   "file_extension": ".py",
   "mimetype": "text/x-python",
   "name": "python",
   "nbconvert_exporter": "python",
   "pygments_lexer": "ipython3",
   "version": "3.6.7"
  }
 },
 "nbformat": 4,
 "nbformat_minor": 2
}
